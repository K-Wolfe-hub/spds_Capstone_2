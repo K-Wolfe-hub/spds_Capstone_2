{
  "nbformat": 4,
  "nbformat_minor": 0,
  "metadata": {
    "colab": {
      "name": "Capstone_2_PreProcessing.ipynb",
      "provenance": [],
      "authorship_tag": "ABX9TyOFmpe8/abuzyLhPkHmyn4y",
      "include_colab_link": true
    },
    "kernelspec": {
      "name": "python3",
      "display_name": "Python 3"
    },
    "language_info": {
      "name": "python"
    }
  },
  "cells": [
    {
      "cell_type": "markdown",
      "metadata": {
        "id": "view-in-github",
        "colab_type": "text"
      },
      "source": [
        "<a href=\"https://colab.research.google.com/github/K-Wolfe-hub/spds_Capstone_2/blob/main/Capstone_2_PreProcessing.ipynb\" target=\"_parent\"><img src=\"https://colab.research.google.com/assets/colab-badge.svg\" alt=\"Open In Colab\"/></a>"
      ]
    },
    {
      "cell_type": "markdown",
      "metadata": {
        "id": "CbY1cNoK7jGm"
      },
      "source": [
        "This workbook is the 3rd section of my capstone 2 project. The data is following on Capstone_2_EDA located at https://colab.research.google.com/drive/1rsXtyX8vLm7IBdbsC0HsTxfX5u9mFj0R?authuser=1. \\\\\n",
        "The intention of this notebook is to: \\\\\n",
        "\n",
        "\n",
        "*   Create dummy or indicator features for categorical variables\n",
        "*   Standardize the magnitude of numeric features using a scaler \n",
        "*   Split your data into testing and training datasets\n",
        "\n"
      ]
    },
    {
      "cell_type": "code",
      "metadata": {
        "id": "_VpAxCB56CpO"
      },
      "source": [
        "import pandas as pd\n",
        "import pathlib\n",
        "import matplotlib.pyplot as plt\n",
        "import numpy as np\n",
        "from sklearn.model_selection import train_test_split\n",
        "from sklearn.preprocessing import StandardScaler"
      ],
      "execution_count": 1,
      "outputs": []
    },
    {
      "cell_type": "code",
      "metadata": {
        "colab": {
          "base_uri": "https://localhost:8080/"
        },
        "id": "9n4_MlfD6bRs",
        "outputId": "ecb37670-6c67-4e46-e47b-676d467f4364"
      },
      "source": [
        "from google.colab import drive\n",
        "drive.mount(\"/content/gdrive\")"
      ],
      "execution_count": 2,
      "outputs": [
        {
          "output_type": "stream",
          "text": [
            "Drive already mounted at /content/gdrive; to attempt to forcibly remount, call drive.mount(\"/content/gdrive\", force_remount=True).\n"
          ],
          "name": "stdout"
        }
      ]
    },
    {
      "cell_type": "code",
      "metadata": {
        "colab": {
          "base_uri": "https://localhost:8080/",
          "height": 479
        },
        "id": "zLEywchR607T",
        "outputId": "4db8c3e6-952b-4f5b-aa85-34a12d1b8e75"
      },
      "source": [
        "#import post-EDA data\n",
        "real_data = pd.read_csv('gdrive/My Drive/Springboard Capstone 2/HCAD_Data/sfh_data2model.csv')\n",
        "real_data.head(2)"
      ],
      "execution_count": 3,
      "outputs": [
        {
          "output_type": "stream",
          "text": [
            "/usr/local/lib/python3.7/dist-packages/IPython/core/interactiveshell.py:2718: DtypeWarning: Columns (6,7,8) have mixed types.Specify dtype option on import or set low_memory=False.\n",
            "  interactivity=interactivity, compiler=compiler, result=result)\n"
          ],
          "name": "stderr"
        },
        {
          "output_type": "execute_result",
          "data": {
            "text/html": [
              "<div>\n",
              "<style scoped>\n",
              "    .dataframe tbody tr th:only-of-type {\n",
              "        vertical-align: middle;\n",
              "    }\n",
              "\n",
              "    .dataframe tbody tr th {\n",
              "        vertical-align: top;\n",
              "    }\n",
              "\n",
              "    .dataframe thead th {\n",
              "        text-align: right;\n",
              "    }\n",
              "</style>\n",
              "<table border=\"1\" class=\"dataframe\">\n",
              "  <thead>\n",
              "    <tr style=\"text-align: right;\">\n",
              "      <th></th>\n",
              "      <th>Unnamed: 0</th>\n",
              "      <th>Unnamed: 0.1</th>\n",
              "      <th>acct</th>\n",
              "      <th>school_dist</th>\n",
              "      <th>Neighborhood_Code</th>\n",
              "      <th>Neighborhood_Grp</th>\n",
              "      <th>Market_Area_1</th>\n",
              "      <th>Market_Area_2</th>\n",
              "      <th>center_code</th>\n",
              "      <th>yr_impr</th>\n",
              "      <th>bld_ar</th>\n",
              "      <th>land_ar</th>\n",
              "      <th>Cap_acct</th>\n",
              "      <th>shared_cad</th>\n",
              "      <th>land_val</th>\n",
              "      <th>bld_val</th>\n",
              "      <th>x_features_val</th>\n",
              "      <th>assessed_val</th>\n",
              "      <th>tot_appr_val</th>\n",
              "      <th>tot_mkt_val</th>\n",
              "      <th>prior_land_val</th>\n",
              "      <th>prior_bld_val</th>\n",
              "      <th>prior_x_features_val</th>\n",
              "      <th>prior_tot_appr_val</th>\n",
              "      <th>prior_tot_mkt_val</th>\n",
              "      <th>new_construction_val</th>\n",
              "      <th>tot_rcn_val</th>\n",
              "      <th>protested</th>\n",
              "      <th>jurs</th>\n",
              "      <th>Hearing_Type</th>\n",
              "      <th>Agent_Code</th>\n",
              "      <th>Initial_Appraised_Value</th>\n",
              "      <th>Initial_Market_Value</th>\n",
              "      <th>Final_Appraised_Value</th>\n",
              "      <th>Final_Market_Value</th>\n",
              "      <th>appeal_reduction</th>\n",
              "      <th>appeal_red_pct</th>\n",
              "      <th>ATR</th>\n",
              "      <th>FPD</th>\n",
              "      <th>FPM</th>\n",
              "      <th>FPO</th>\n",
              "      <th>FPW</th>\n",
              "      <th>FXA</th>\n",
              "      <th>FXT</th>\n",
              "      <th>LLR</th>\n",
              "      <th>MAS</th>\n",
              "      <th>REL</th>\n",
              "      <th>RMB</th>\n",
              "      <th>RMF</th>\n",
              "      <th>RMH</th>\n",
              "      <th>RMR</th>\n",
              "      <th>RMT</th>\n",
              "      <th>STY</th>\n",
              "      <th>land_val_per_ft2</th>\n",
              "      <th>land_ratio_neighbor</th>\n",
              "      <th>bld_val_per_ft2</th>\n",
              "      <th>bld_ratio_neighbor</th>\n",
              "    </tr>\n",
              "  </thead>\n",
              "  <tbody>\n",
              "    <tr>\n",
              "      <th>0</th>\n",
              "      <td>0</td>\n",
              "      <td>363</td>\n",
              "      <td>11200000014</td>\n",
              "      <td>1</td>\n",
              "      <td>5900.07</td>\n",
              "      <td>0</td>\n",
              "      <td>4001</td>\n",
              "      <td>4001</td>\n",
              "      <td>33</td>\n",
              "      <td>1904</td>\n",
              "      <td>3888</td>\n",
              "      <td>0</td>\n",
              "      <td>N</td>\n",
              "      <td>N</td>\n",
              "      <td>0.0</td>\n",
              "      <td>102415.0</td>\n",
              "      <td>0.0</td>\n",
              "      <td>102415.0</td>\n",
              "      <td>102415.0</td>\n",
              "      <td>102415.0</td>\n",
              "      <td>0.0</td>\n",
              "      <td>0.0</td>\n",
              "      <td>0.0</td>\n",
              "      <td>0.0</td>\n",
              "      <td>0.0</td>\n",
              "      <td>0.0</td>\n",
              "      <td>249793.0</td>\n",
              "      <td>Y</td>\n",
              "      <td>001 040 041 042 043 044 048 061 265 919 920</td>\n",
              "      <td>F</td>\n",
              "      <td>Agent</td>\n",
              "      <td>102415.0</td>\n",
              "      <td>102415.0</td>\n",
              "      <td>102415.0</td>\n",
              "      <td>102415.0</td>\n",
              "      <td>0.0</td>\n",
              "      <td>0.0</td>\n",
              "      <td>0.0</td>\n",
              "      <td>0.0</td>\n",
              "      <td>0.0</td>\n",
              "      <td>0.0</td>\n",
              "      <td>1.0</td>\n",
              "      <td>0.0</td>\n",
              "      <td>8.0</td>\n",
              "      <td>0.0</td>\n",
              "      <td>0.0</td>\n",
              "      <td>0.0</td>\n",
              "      <td>4.0</td>\n",
              "      <td>2.0</td>\n",
              "      <td>0.0</td>\n",
              "      <td>0.0</td>\n",
              "      <td>8.0</td>\n",
              "      <td>2.0</td>\n",
              "      <td>0.000000</td>\n",
              "      <td>0.300916</td>\n",
              "      <td>26.341307</td>\n",
              "      <td>0.333350</td>\n",
              "    </tr>\n",
              "    <tr>\n",
              "      <th>1</th>\n",
              "      <td>1</td>\n",
              "      <td>926</td>\n",
              "      <td>20720000014</td>\n",
              "      <td>1</td>\n",
              "      <td>7116.01</td>\n",
              "      <td>1421</td>\n",
              "      <td>140</td>\n",
              "      <td>140</td>\n",
              "      <td>62</td>\n",
              "      <td>2019</td>\n",
              "      <td>2534</td>\n",
              "      <td>2069</td>\n",
              "      <td>N</td>\n",
              "      <td>N</td>\n",
              "      <td>85630.0</td>\n",
              "      <td>257514.0</td>\n",
              "      <td>0.0</td>\n",
              "      <td>343144.0</td>\n",
              "      <td>343144.0</td>\n",
              "      <td>343144.0</td>\n",
              "      <td>51675.0</td>\n",
              "      <td>0.0</td>\n",
              "      <td>0.0</td>\n",
              "      <td>51675.0</td>\n",
              "      <td>51675.0</td>\n",
              "      <td>257514.0</td>\n",
              "      <td>390173.0</td>\n",
              "      <td>N</td>\n",
              "      <td>001 040 041 042 043 044 048 061 995</td>\n",
              "      <td>N</td>\n",
              "      <td>NaN</td>\n",
              "      <td>343144.0</td>\n",
              "      <td>343144.0</td>\n",
              "      <td>343144.0</td>\n",
              "      <td>343144.0</td>\n",
              "      <td>0.0</td>\n",
              "      <td>0.0</td>\n",
              "      <td>0.0</td>\n",
              "      <td>0.0</td>\n",
              "      <td>0.0</td>\n",
              "      <td>0.0</td>\n",
              "      <td>0.0</td>\n",
              "      <td>2.0</td>\n",
              "      <td>15.0</td>\n",
              "      <td>0.0</td>\n",
              "      <td>0.0</td>\n",
              "      <td>0.0</td>\n",
              "      <td>3.0</td>\n",
              "      <td>3.0</td>\n",
              "      <td>1.0</td>\n",
              "      <td>0.0</td>\n",
              "      <td>6.0</td>\n",
              "      <td>4.0</td>\n",
              "      <td>41.387144</td>\n",
              "      <td>3.516565</td>\n",
              "      <td>101.623520</td>\n",
              "      <td>1.640098</td>\n",
              "    </tr>\n",
              "  </tbody>\n",
              "</table>\n",
              "</div>"
            ],
            "text/plain": [
              "   Unnamed: 0  Unnamed: 0.1  ...  bld_val_per_ft2  bld_ratio_neighbor\n",
              "0           0           363  ...        26.341307            0.333350\n",
              "1           1           926  ...       101.623520            1.640098\n",
              "\n",
              "[2 rows x 57 columns]"
            ]
          },
          "metadata": {
            "tags": []
          },
          "execution_count": 3
        }
      ]
    },
    {
      "cell_type": "code",
      "metadata": {
        "colab": {
          "base_uri": "https://localhost:8080/"
        },
        "id": "7JRzS0lgV6WM",
        "outputId": "800d3705-018e-46c5-fde9-cb200ada2703"
      },
      "source": [
        "cols = real_data.columns\n",
        "print(cols)"
      ],
      "execution_count": 4,
      "outputs": [
        {
          "output_type": "stream",
          "text": [
            "Index(['Unnamed: 0', 'Unnamed: 0.1', 'acct', 'school_dist',\n",
            "       'Neighborhood_Code', 'Neighborhood_Grp', 'Market_Area_1',\n",
            "       'Market_Area_2', 'center_code', 'yr_impr', 'bld_ar', 'land_ar',\n",
            "       'Cap_acct', 'shared_cad', 'land_val', 'bld_val', 'x_features_val',\n",
            "       'assessed_val', 'tot_appr_val', 'tot_mkt_val', 'prior_land_val',\n",
            "       'prior_bld_val', 'prior_x_features_val', 'prior_tot_appr_val',\n",
            "       'prior_tot_mkt_val', 'new_construction_val', 'tot_rcn_val', 'protested',\n",
            "       'jurs', 'Hearing_Type', 'Agent_Code', 'Initial_Appraised_Value',\n",
            "       'Initial_Market_Value', 'Final_Appraised_Value', 'Final_Market_Value',\n",
            "       'appeal_reduction', 'appeal_red_pct', 'ATR ', 'FPD ', 'FPM ', 'FPO ',\n",
            "       'FPW ', 'FXA ', 'FXT ', 'LLR ', 'MAS ', 'REL ', 'RMB ', 'RMF ', 'RMH ',\n",
            "       'RMR ', 'RMT ', 'STY ', 'land_val_per_ft2', 'land_ratio_neighbor',\n",
            "       'bld_val_per_ft2', 'bld_ratio_neighbor'],\n",
            "      dtype='object')\n"
          ],
          "name": "stdout"
        }
      ]
    },
    {
      "cell_type": "markdown",
      "metadata": {
        "id": "Xn_NqdH-s23H"
      },
      "source": [
        "There are two seperate questions in this project. The first is an attempt to model the single family home values."
      ]
    },
    {
      "cell_type": "code",
      "metadata": {
        "id": "URbCjKX-Dn5P"
      },
      "source": [
        "#These are the value related columns that will be split in our train_test_split step for predicted value\n",
        "y_val_cols = ['land_val', 'bld_val','assessed_val', 'tot_appr_val', 'tot_mkt_val']\n",
        "X_val_cols = ['bld_ar', 'land_ar','ATR ', 'FPD ', 'FPM ', 'FPO ',\n",
        "       'FPW ', 'FXA ', 'FXT ', 'LLR ', 'MAS ', 'REL ', 'RMB ', 'RMF ', 'RMH ',\n",
        "       'RMR ', 'RMT ', 'STY ','land_ratio_neighbor', 'bld_ratio_neighbor']"
      ],
      "execution_count": 5,
      "outputs": []
    },
    {
      "cell_type": "code",
      "metadata": {
        "id": "5dJzXo6xW9u0"
      },
      "source": [
        "y_val = real_data[y_val_cols]\n",
        "X_val = real_data[X_val_cols]"
      ],
      "execution_count": 6,
      "outputs": []
    },
    {
      "cell_type": "code",
      "metadata": {
        "id": "Rf_yZsM_OQcU"
      },
      "source": [
        "X_val_train, X_val_test, y_val_train, y_val_test = train_test_split(X_val, y_val, test_size=0.33, random_state=42)"
      ],
      "execution_count": 7,
      "outputs": []
    },
    {
      "cell_type": "code",
      "metadata": {
        "id": "JDjNCANhVYNr"
      },
      "source": [
        "ysscale = StandardScaler()"
      ],
      "execution_count": 8,
      "outputs": []
    },
    {
      "cell_type": "code",
      "metadata": {
        "id": "-6RPGp4aQOhw"
      },
      "source": [
        "xsscale = StandardScaler()"
      ],
      "execution_count": 9,
      "outputs": []
    },
    {
      "cell_type": "code",
      "metadata": {
        "id": "tTlZTGWYZ6wq"
      },
      "source": [
        "ysscale.fit(y_val_train)\n",
        "y_val_train_scaled = ysscale.transform(y_val_train)\n",
        "y_val_test_scaled = ysscale.transform(y_val_test)"
      ],
      "execution_count": 10,
      "outputs": []
    },
    {
      "cell_type": "code",
      "metadata": {
        "id": "Jl24jK-EsNft"
      },
      "source": [
        "xsscale.fit(X_val_train)\n",
        "X_val_train_scaled = xsscale.transform(X_val_train)\n",
        "X_val_test_scaled = xsscale.transform(X_val_test)"
      ],
      "execution_count": 11,
      "outputs": []
    },
    {
      "cell_type": "markdown",
      "metadata": {
        "id": "2A6EnNubRA0S"
      },
      "source": [
        "The second goal is to predict protests and their successfulness in the form of appeal_reduction."
      ]
    },
    {
      "cell_type": "code",
      "metadata": {
        "id": "D2gDwUf9MPjF"
      },
      "source": [
        "#hearing related columns for train_test_split\n",
        "y_hear_cols = ['protested','appeal_reduction', 'appeal_red_pct', 'Final_Appraised_Value', 'Final_Market_Value']\n",
        "X_hear_cols = ['bld_ar', 'land_ar',\n",
        "       'Cap_acct', 'shared_cad', 'land_val', 'bld_val', 'x_features_val',\n",
        "       'assessed_val', 'tot_appr_val', 'tot_mkt_val', 'prior_land_val',\n",
        "       'prior_bld_val', 'prior_x_features_val', 'prior_tot_appr_val',\n",
        "       'prior_tot_mkt_val', 'new_construction_val', 'tot_rcn_val', \n",
        "       'Hearing_Type', 'Agent_Code', 'Initial_Appraised_Value',\n",
        "       'Initial_Market_Value','ATR ', 'FPD ', 'FPM ', 'FPO ',\n",
        "       'FPW ', 'FXA ', 'FXT ', 'LLR ', 'MAS ', 'REL ', 'RMB ', 'RMF ', 'RMH ',\n",
        "       'RMR ', 'RMT ', 'STY ','land_ratio_neighbor', 'bld_ratio_neighbor']"
      ],
      "execution_count": 12,
      "outputs": []
    },
    {
      "cell_type": "code",
      "metadata": {
        "id": "uLt0QcXSvB-f"
      },
      "source": [
        "y_hear = real_data[y_hear_cols]\n",
        "X_hear = real_data[X_hear_cols]"
      ],
      "execution_count": 13,
      "outputs": []
    },
    {
      "cell_type": "code",
      "metadata": {
        "colab": {
          "base_uri": "https://localhost:8080/",
          "height": 195
        },
        "id": "xwX1tPgpvShZ",
        "outputId": "6ba9ce92-9c47-43d9-b30c-1e4c5469d5f1"
      },
      "source": [
        "y_hear_dm = pd.get_dummies(y_hear,columns=['protested'],drop_first=True)\n",
        "y_hear_dm.head()"
      ],
      "execution_count": 14,
      "outputs": [
        {
          "output_type": "execute_result",
          "data": {
            "text/html": [
              "<div>\n",
              "<style scoped>\n",
              "    .dataframe tbody tr th:only-of-type {\n",
              "        vertical-align: middle;\n",
              "    }\n",
              "\n",
              "    .dataframe tbody tr th {\n",
              "        vertical-align: top;\n",
              "    }\n",
              "\n",
              "    .dataframe thead th {\n",
              "        text-align: right;\n",
              "    }\n",
              "</style>\n",
              "<table border=\"1\" class=\"dataframe\">\n",
              "  <thead>\n",
              "    <tr style=\"text-align: right;\">\n",
              "      <th></th>\n",
              "      <th>appeal_reduction</th>\n",
              "      <th>appeal_red_pct</th>\n",
              "      <th>Final_Appraised_Value</th>\n",
              "      <th>Final_Market_Value</th>\n",
              "      <th>protested_Y</th>\n",
              "    </tr>\n",
              "  </thead>\n",
              "  <tbody>\n",
              "    <tr>\n",
              "      <th>0</th>\n",
              "      <td>0.0</td>\n",
              "      <td>0.000000</td>\n",
              "      <td>102415.0</td>\n",
              "      <td>102415.0</td>\n",
              "      <td>1</td>\n",
              "    </tr>\n",
              "    <tr>\n",
              "      <th>1</th>\n",
              "      <td>0.0</td>\n",
              "      <td>0.000000</td>\n",
              "      <td>343144.0</td>\n",
              "      <td>343144.0</td>\n",
              "      <td>0</td>\n",
              "    </tr>\n",
              "    <tr>\n",
              "      <th>2</th>\n",
              "      <td>0.0</td>\n",
              "      <td>0.000000</td>\n",
              "      <td>212587.0</td>\n",
              "      <td>349463.0</td>\n",
              "      <td>0</td>\n",
              "    </tr>\n",
              "    <tr>\n",
              "      <th>3</th>\n",
              "      <td>25000.0</td>\n",
              "      <td>16.198004</td>\n",
              "      <td>129340.0</td>\n",
              "      <td>129340.0</td>\n",
              "      <td>1</td>\n",
              "    </tr>\n",
              "    <tr>\n",
              "      <th>4</th>\n",
              "      <td>0.0</td>\n",
              "      <td>0.000000</td>\n",
              "      <td>153590.0</td>\n",
              "      <td>153590.0</td>\n",
              "      <td>0</td>\n",
              "    </tr>\n",
              "  </tbody>\n",
              "</table>\n",
              "</div>"
            ],
            "text/plain": [
              "   appeal_reduction  appeal_red_pct  ...  Final_Market_Value  protested_Y\n",
              "0               0.0        0.000000  ...            102415.0            1\n",
              "1               0.0        0.000000  ...            343144.0            0\n",
              "2               0.0        0.000000  ...            349463.0            0\n",
              "3           25000.0       16.198004  ...            129340.0            1\n",
              "4               0.0        0.000000  ...            153590.0            0\n",
              "\n",
              "[5 rows x 5 columns]"
            ]
          },
          "metadata": {
            "tags": []
          },
          "execution_count": 14
        }
      ]
    },
    {
      "cell_type": "code",
      "metadata": {
        "colab": {
          "base_uri": "https://localhost:8080/",
          "height": 215
        },
        "id": "Zs3z_0dRzSpe",
        "outputId": "92b1e4dc-b0ec-45ef-db03-f23c2bec7e0e"
      },
      "source": [
        "X_hear_dm = pd.get_dummies(X_hear,columns=['Cap_acct', 'shared_cad','Hearing_Type', 'Agent_Code'],drop_first=True)\n",
        "X_hear_dm.head()"
      ],
      "execution_count": 15,
      "outputs": [
        {
          "output_type": "execute_result",
          "data": {
            "text/html": [
              "<div>\n",
              "<style scoped>\n",
              "    .dataframe tbody tr th:only-of-type {\n",
              "        vertical-align: middle;\n",
              "    }\n",
              "\n",
              "    .dataframe tbody tr th {\n",
              "        vertical-align: top;\n",
              "    }\n",
              "\n",
              "    .dataframe thead th {\n",
              "        text-align: right;\n",
              "    }\n",
              "</style>\n",
              "<table border=\"1\" class=\"dataframe\">\n",
              "  <thead>\n",
              "    <tr style=\"text-align: right;\">\n",
              "      <th></th>\n",
              "      <th>bld_ar</th>\n",
              "      <th>land_ar</th>\n",
              "      <th>land_val</th>\n",
              "      <th>bld_val</th>\n",
              "      <th>x_features_val</th>\n",
              "      <th>assessed_val</th>\n",
              "      <th>tot_appr_val</th>\n",
              "      <th>tot_mkt_val</th>\n",
              "      <th>prior_land_val</th>\n",
              "      <th>prior_bld_val</th>\n",
              "      <th>prior_x_features_val</th>\n",
              "      <th>prior_tot_appr_val</th>\n",
              "      <th>prior_tot_mkt_val</th>\n",
              "      <th>new_construction_val</th>\n",
              "      <th>tot_rcn_val</th>\n",
              "      <th>Initial_Appraised_Value</th>\n",
              "      <th>Initial_Market_Value</th>\n",
              "      <th>ATR</th>\n",
              "      <th>FPD</th>\n",
              "      <th>FPM</th>\n",
              "      <th>FPO</th>\n",
              "      <th>FPW</th>\n",
              "      <th>FXA</th>\n",
              "      <th>FXT</th>\n",
              "      <th>LLR</th>\n",
              "      <th>MAS</th>\n",
              "      <th>REL</th>\n",
              "      <th>RMB</th>\n",
              "      <th>RMF</th>\n",
              "      <th>RMH</th>\n",
              "      <th>RMR</th>\n",
              "      <th>RMT</th>\n",
              "      <th>STY</th>\n",
              "      <th>land_ratio_neighbor</th>\n",
              "      <th>bld_ratio_neighbor</th>\n",
              "      <th>Cap_acct_Y</th>\n",
              "      <th>shared_cad_Y</th>\n",
              "      <th>Hearing_Type_I</th>\n",
              "      <th>Hearing_Type_N</th>\n",
              "      <th>Hearing_Type_R</th>\n",
              "      <th>Agent_Code_Owner</th>\n",
              "    </tr>\n",
              "  </thead>\n",
              "  <tbody>\n",
              "    <tr>\n",
              "      <th>0</th>\n",
              "      <td>3888</td>\n",
              "      <td>0</td>\n",
              "      <td>0.0</td>\n",
              "      <td>102415.0</td>\n",
              "      <td>0.0</td>\n",
              "      <td>102415.0</td>\n",
              "      <td>102415.0</td>\n",
              "      <td>102415.0</td>\n",
              "      <td>0.0</td>\n",
              "      <td>0.0</td>\n",
              "      <td>0.0</td>\n",
              "      <td>0.0</td>\n",
              "      <td>0.0</td>\n",
              "      <td>0.0</td>\n",
              "      <td>249793.0</td>\n",
              "      <td>102415.0</td>\n",
              "      <td>102415.0</td>\n",
              "      <td>0.0</td>\n",
              "      <td>0.0</td>\n",
              "      <td>0.0</td>\n",
              "      <td>0.0</td>\n",
              "      <td>1.0</td>\n",
              "      <td>0.0</td>\n",
              "      <td>8.0</td>\n",
              "      <td>0.0</td>\n",
              "      <td>0.0</td>\n",
              "      <td>0.0</td>\n",
              "      <td>4.0</td>\n",
              "      <td>2.0</td>\n",
              "      <td>0.0</td>\n",
              "      <td>0.0</td>\n",
              "      <td>8.0</td>\n",
              "      <td>2.0</td>\n",
              "      <td>0.300916</td>\n",
              "      <td>0.333350</td>\n",
              "      <td>0</td>\n",
              "      <td>0</td>\n",
              "      <td>0</td>\n",
              "      <td>0</td>\n",
              "      <td>0</td>\n",
              "      <td>0</td>\n",
              "    </tr>\n",
              "    <tr>\n",
              "      <th>1</th>\n",
              "      <td>2534</td>\n",
              "      <td>2069</td>\n",
              "      <td>85630.0</td>\n",
              "      <td>257514.0</td>\n",
              "      <td>0.0</td>\n",
              "      <td>343144.0</td>\n",
              "      <td>343144.0</td>\n",
              "      <td>343144.0</td>\n",
              "      <td>51675.0</td>\n",
              "      <td>0.0</td>\n",
              "      <td>0.0</td>\n",
              "      <td>51675.0</td>\n",
              "      <td>51675.0</td>\n",
              "      <td>257514.0</td>\n",
              "      <td>390173.0</td>\n",
              "      <td>343144.0</td>\n",
              "      <td>343144.0</td>\n",
              "      <td>0.0</td>\n",
              "      <td>0.0</td>\n",
              "      <td>0.0</td>\n",
              "      <td>0.0</td>\n",
              "      <td>0.0</td>\n",
              "      <td>2.0</td>\n",
              "      <td>15.0</td>\n",
              "      <td>0.0</td>\n",
              "      <td>0.0</td>\n",
              "      <td>0.0</td>\n",
              "      <td>3.0</td>\n",
              "      <td>3.0</td>\n",
              "      <td>1.0</td>\n",
              "      <td>0.0</td>\n",
              "      <td>6.0</td>\n",
              "      <td>4.0</td>\n",
              "      <td>3.516565</td>\n",
              "      <td>1.640098</td>\n",
              "      <td>0</td>\n",
              "      <td>0</td>\n",
              "      <td>0</td>\n",
              "      <td>1</td>\n",
              "      <td>0</td>\n",
              "      <td>0</td>\n",
              "    </tr>\n",
              "    <tr>\n",
              "      <th>2</th>\n",
              "      <td>2537</td>\n",
              "      <td>5000</td>\n",
              "      <td>150000.0</td>\n",
              "      <td>196943.0</td>\n",
              "      <td>2520.0</td>\n",
              "      <td>349463.0</td>\n",
              "      <td>212587.0</td>\n",
              "      <td>349463.0</td>\n",
              "      <td>125000.0</td>\n",
              "      <td>235375.0</td>\n",
              "      <td>100.0</td>\n",
              "      <td>193261.0</td>\n",
              "      <td>360475.0</td>\n",
              "      <td>0.0</td>\n",
              "      <td>252491.0</td>\n",
              "      <td>212587.0</td>\n",
              "      <td>349463.0</td>\n",
              "      <td>0.0</td>\n",
              "      <td>0.0</td>\n",
              "      <td>0.0</td>\n",
              "      <td>0.0</td>\n",
              "      <td>0.0</td>\n",
              "      <td>2.0</td>\n",
              "      <td>12.0</td>\n",
              "      <td>0.0</td>\n",
              "      <td>0.0</td>\n",
              "      <td>0.0</td>\n",
              "      <td>3.0</td>\n",
              "      <td>2.0</td>\n",
              "      <td>1.0</td>\n",
              "      <td>1.0</td>\n",
              "      <td>8.0</td>\n",
              "      <td>2.0</td>\n",
              "      <td>0.825761</td>\n",
              "      <td>0.820484</td>\n",
              "      <td>1</td>\n",
              "      <td>0</td>\n",
              "      <td>0</td>\n",
              "      <td>1</td>\n",
              "      <td>0</td>\n",
              "      <td>0</td>\n",
              "    </tr>\n",
              "    <tr>\n",
              "      <th>3</th>\n",
              "      <td>1312</td>\n",
              "      <td>5000</td>\n",
              "      <td>129240.0</td>\n",
              "      <td>100.0</td>\n",
              "      <td>0.0</td>\n",
              "      <td>129340.0</td>\n",
              "      <td>129340.0</td>\n",
              "      <td>129340.0</td>\n",
              "      <td>125000.0</td>\n",
              "      <td>100.0</td>\n",
              "      <td>0.0</td>\n",
              "      <td>125100.0</td>\n",
              "      <td>125100.0</td>\n",
              "      <td>0.0</td>\n",
              "      <td>11420.0</td>\n",
              "      <td>154340.0</td>\n",
              "      <td>154340.0</td>\n",
              "      <td>0.0</td>\n",
              "      <td>0.0</td>\n",
              "      <td>0.0</td>\n",
              "      <td>0.0</td>\n",
              "      <td>0.0</td>\n",
              "      <td>0.0</td>\n",
              "      <td>10.0</td>\n",
              "      <td>0.0</td>\n",
              "      <td>0.0</td>\n",
              "      <td>0.0</td>\n",
              "      <td>3.0</td>\n",
              "      <td>2.0</td>\n",
              "      <td>0.0</td>\n",
              "      <td>0.0</td>\n",
              "      <td>6.0</td>\n",
              "      <td>2.0</td>\n",
              "      <td>0.825761</td>\n",
              "      <td>0.820484</td>\n",
              "      <td>0</td>\n",
              "      <td>0</td>\n",
              "      <td>0</td>\n",
              "      <td>0</td>\n",
              "      <td>0</td>\n",
              "      <td>0</td>\n",
              "    </tr>\n",
              "    <tr>\n",
              "      <th>4</th>\n",
              "      <td>1496</td>\n",
              "      <td>5000</td>\n",
              "      <td>150000.0</td>\n",
              "      <td>3090.0</td>\n",
              "      <td>500.0</td>\n",
              "      <td>153590.0</td>\n",
              "      <td>153590.0</td>\n",
              "      <td>153590.0</td>\n",
              "      <td>125000.0</td>\n",
              "      <td>3090.0</td>\n",
              "      <td>207.0</td>\n",
              "      <td>128297.0</td>\n",
              "      <td>128297.0</td>\n",
              "      <td>0.0</td>\n",
              "      <td>11443.0</td>\n",
              "      <td>153590.0</td>\n",
              "      <td>153590.0</td>\n",
              "      <td>0.0</td>\n",
              "      <td>0.0</td>\n",
              "      <td>0.0</td>\n",
              "      <td>0.0</td>\n",
              "      <td>0.0</td>\n",
              "      <td>0.0</td>\n",
              "      <td>5.0</td>\n",
              "      <td>0.0</td>\n",
              "      <td>0.0</td>\n",
              "      <td>0.0</td>\n",
              "      <td>3.0</td>\n",
              "      <td>1.0</td>\n",
              "      <td>0.0</td>\n",
              "      <td>0.0</td>\n",
              "      <td>6.0</td>\n",
              "      <td>1.0</td>\n",
              "      <td>0.825761</td>\n",
              "      <td>0.820484</td>\n",
              "      <td>0</td>\n",
              "      <td>0</td>\n",
              "      <td>0</td>\n",
              "      <td>1</td>\n",
              "      <td>0</td>\n",
              "      <td>0</td>\n",
              "    </tr>\n",
              "  </tbody>\n",
              "</table>\n",
              "</div>"
            ],
            "text/plain": [
              "   bld_ar  land_ar  land_val  ...  Hearing_Type_N  Hearing_Type_R  Agent_Code_Owner \n",
              "0    3888        0       0.0  ...               0               0                  0\n",
              "1    2534     2069   85630.0  ...               1               0                  0\n",
              "2    2537     5000  150000.0  ...               1               0                  0\n",
              "3    1312     5000  129240.0  ...               0               0                  0\n",
              "4    1496     5000  150000.0  ...               1               0                  0\n",
              "\n",
              "[5 rows x 41 columns]"
            ]
          },
          "metadata": {
            "tags": []
          },
          "execution_count": 15
        }
      ]
    },
    {
      "cell_type": "code",
      "metadata": {
        "id": "OqOFzbFVv8N8"
      },
      "source": [
        "X_hear_dm_cols = X_hear_dm.columns\n",
        "y_hear_dm_cols = y_hear_dm.columns"
      ],
      "execution_count": 22,
      "outputs": []
    },
    {
      "cell_type": "code",
      "metadata": {
        "id": "GBC5xKUFxJww"
      },
      "source": [
        "X_hear_train, X_hear_test, y_hear_train, y_hear_test = train_test_split(X_hear_dm, y_hear_dm, test_size=0.33, random_state=42)"
      ],
      "execution_count": 16,
      "outputs": []
    },
    {
      "cell_type": "code",
      "metadata": {
        "id": "T0597lIsViha"
      },
      "source": [
        "ysscale2 = StandardScaler()"
      ],
      "execution_count": 17,
      "outputs": []
    },
    {
      "cell_type": "code",
      "metadata": {
        "id": "L8YcQbemVmkC"
      },
      "source": [
        "xsscale2 = StandardScaler()"
      ],
      "execution_count": 18,
      "outputs": []
    },
    {
      "cell_type": "code",
      "metadata": {
        "id": "JrFzdZGsVt7c"
      },
      "source": [
        "ysscale2.fit(y_hear_train)\n",
        "y_hear_train_scaled = ysscale2.transform(y_hear_train)\n",
        "y_hear_test_scaled = ysscale2.transform(y_hear_test)\n",
        "xsscale2.fit(X_hear_train)\n",
        "X_hear_train_scaled = xsscale2.transform(X_hear_train)\n",
        "X_hear_test_scaled = xsscale2.transform(X_hear_test)"
      ],
      "execution_count": 19,
      "outputs": []
    },
    {
      "cell_type": "code",
      "metadata": {
        "colab": {
          "base_uri": "https://localhost:8080/",
          "height": 126
        },
        "id": "IMgXbR_at4Ni",
        "outputId": "37502644-5e5e-4c72-ea4d-1a6d3b99d6b2"
      },
      "source": [
        "#create DataFrames to allow me to write the splits to the data folder\n",
        "X_hear_train_scaled_df = pd.DataFrame(X_hear_train_scaled,columns=X_hear_dm_cols)\n",
        "X_hear_test_scaled_df = pd.DataFrame(X_hear_test_scaled,columns=X_hear_dm_cols)\n",
        "y_hear_train_scaled_df = pd.DataFrame(y_hear_train_scaled,columns=y_hear_dm_cols)\n",
        "y_hear_test_scaled_df = pd.DataFrame(y_hear_test_scaled,columns=y_hear_dm_cols)\n",
        "X_val_train_scaled_df = pd.DataFrame(X_val_train_scaled,columns=X_val_cols)\n",
        "X_val_test_scaled_df = pd.DataFrame(X_val_test_scaled,columns=X_val_cols)\n",
        "y_val_train_scaled_df = pd.DataFrame(y_val_train_scaled,columns=y_val_cols)\n",
        "y_val_test_scaled_df = pd.DataFrame(y_val_test_scaled,columns=y_val_cols)\n",
        "X_hear_test_scaled_df.head(2)"
      ],
      "execution_count": 23,
      "outputs": [
        {
          "output_type": "execute_result",
          "data": {
            "text/html": [
              "<div>\n",
              "<style scoped>\n",
              "    .dataframe tbody tr th:only-of-type {\n",
              "        vertical-align: middle;\n",
              "    }\n",
              "\n",
              "    .dataframe tbody tr th {\n",
              "        vertical-align: top;\n",
              "    }\n",
              "\n",
              "    .dataframe thead th {\n",
              "        text-align: right;\n",
              "    }\n",
              "</style>\n",
              "<table border=\"1\" class=\"dataframe\">\n",
              "  <thead>\n",
              "    <tr style=\"text-align: right;\">\n",
              "      <th></th>\n",
              "      <th>bld_ar</th>\n",
              "      <th>land_ar</th>\n",
              "      <th>land_val</th>\n",
              "      <th>bld_val</th>\n",
              "      <th>x_features_val</th>\n",
              "      <th>assessed_val</th>\n",
              "      <th>tot_appr_val</th>\n",
              "      <th>tot_mkt_val</th>\n",
              "      <th>prior_land_val</th>\n",
              "      <th>prior_bld_val</th>\n",
              "      <th>prior_x_features_val</th>\n",
              "      <th>prior_tot_appr_val</th>\n",
              "      <th>prior_tot_mkt_val</th>\n",
              "      <th>new_construction_val</th>\n",
              "      <th>tot_rcn_val</th>\n",
              "      <th>Initial_Appraised_Value</th>\n",
              "      <th>Initial_Market_Value</th>\n",
              "      <th>ATR</th>\n",
              "      <th>FPD</th>\n",
              "      <th>FPM</th>\n",
              "      <th>FPO</th>\n",
              "      <th>FPW</th>\n",
              "      <th>FXA</th>\n",
              "      <th>FXT</th>\n",
              "      <th>LLR</th>\n",
              "      <th>MAS</th>\n",
              "      <th>REL</th>\n",
              "      <th>RMB</th>\n",
              "      <th>RMF</th>\n",
              "      <th>RMH</th>\n",
              "      <th>RMR</th>\n",
              "      <th>RMT</th>\n",
              "      <th>STY</th>\n",
              "      <th>land_ratio_neighbor</th>\n",
              "      <th>bld_ratio_neighbor</th>\n",
              "      <th>Cap_acct_Y</th>\n",
              "      <th>shared_cad_Y</th>\n",
              "      <th>Hearing_Type_I</th>\n",
              "      <th>Hearing_Type_N</th>\n",
              "      <th>Hearing_Type_R</th>\n",
              "      <th>Agent_Code_Owner</th>\n",
              "    </tr>\n",
              "  </thead>\n",
              "  <tbody>\n",
              "    <tr>\n",
              "      <th>0</th>\n",
              "      <td>-0.572594</td>\n",
              "      <td>-0.237196</td>\n",
              "      <td>-0.317841</td>\n",
              "      <td>-0.212373</td>\n",
              "      <td>-0.294732</td>\n",
              "      <td>-0.310653</td>\n",
              "      <td>-0.298088</td>\n",
              "      <td>-0.310653</td>\n",
              "      <td>-0.292903</td>\n",
              "      <td>-0.260094</td>\n",
              "      <td>-0.296894</td>\n",
              "      <td>-0.306170</td>\n",
              "      <td>-0.320242</td>\n",
              "      <td>-0.107074</td>\n",
              "      <td>-0.405402</td>\n",
              "      <td>-0.302155</td>\n",
              "      <td>-0.314152</td>\n",
              "      <td>-0.03427</td>\n",
              "      <td>-0.181033</td>\n",
              "      <td>1.255313</td>\n",
              "      <td>-0.061943</td>\n",
              "      <td>-0.482345</td>\n",
              "      <td>0.428047</td>\n",
              "      <td>-0.113422</td>\n",
              "      <td>-0.007258</td>\n",
              "      <td>-0.189942</td>\n",
              "      <td>-0.060566</td>\n",
              "      <td>-0.429853</td>\n",
              "      <td>-0.094383</td>\n",
              "      <td>-0.840306</td>\n",
              "      <td>-0.697435</td>\n",
              "      <td>-0.498659</td>\n",
              "      <td>-0.728107</td>\n",
              "      <td>-0.370672</td>\n",
              "      <td>0.239281</td>\n",
              "      <td>-0.541382</td>\n",
              "      <td>3.290225</td>\n",
              "      <td>-0.441201</td>\n",
              "      <td>0.60702</td>\n",
              "      <td>-0.001679</td>\n",
              "      <td>-0.463422</td>\n",
              "    </tr>\n",
              "    <tr>\n",
              "      <th>1</th>\n",
              "      <td>1.498577</td>\n",
              "      <td>0.500286</td>\n",
              "      <td>1.742052</td>\n",
              "      <td>-0.891020</td>\n",
              "      <td>-0.294732</td>\n",
              "      <td>0.621494</td>\n",
              "      <td>0.599941</td>\n",
              "      <td>0.621494</td>\n",
              "      <td>1.775575</td>\n",
              "      <td>-0.859073</td>\n",
              "      <td>-0.296894</td>\n",
              "      <td>0.516683</td>\n",
              "      <td>0.664498</td>\n",
              "      <td>-0.107074</td>\n",
              "      <td>-0.843435</td>\n",
              "      <td>0.561375</td>\n",
              "      <td>0.572620</td>\n",
              "      <td>-0.03427</td>\n",
              "      <td>-0.181033</td>\n",
              "      <td>-0.694627</td>\n",
              "      <td>-0.061943</td>\n",
              "      <td>1.801207</td>\n",
              "      <td>-0.196125</td>\n",
              "      <td>0.374571</td>\n",
              "      <td>-0.007258</td>\n",
              "      <td>-0.189942</td>\n",
              "      <td>-0.060566</td>\n",
              "      <td>0.753266</td>\n",
              "      <td>1.221891</td>\n",
              "      <td>-0.840306</td>\n",
              "      <td>0.735991</td>\n",
              "      <td>1.188000</td>\n",
              "      <td>0.937108</td>\n",
              "      <td>2.004099</td>\n",
              "      <td>1.270604</td>\n",
              "      <td>1.847124</td>\n",
              "      <td>-0.303931</td>\n",
              "      <td>-0.441201</td>\n",
              "      <td>0.60702</td>\n",
              "      <td>-0.001679</td>\n",
              "      <td>-0.463422</td>\n",
              "    </tr>\n",
              "  </tbody>\n",
              "</table>\n",
              "</div>"
            ],
            "text/plain": [
              "     bld_ar   land_ar  ...  Hearing_Type_R  Agent_Code_Owner \n",
              "0 -0.572594 -0.237196  ...       -0.001679          -0.463422\n",
              "1  1.498577  0.500286  ...       -0.001679          -0.463422\n",
              "\n",
              "[2 rows x 41 columns]"
            ]
          },
          "metadata": {
            "tags": []
          },
          "execution_count": 23
        }
      ]
    },
    {
      "cell_type": "code",
      "metadata": {
        "id": "mKZ-a-8dxj-w"
      },
      "source": [
        "#write the final files to the data folder\n",
        "X_hear_train_scaled_df.to_csv('gdrive/My Drive/Springboard Capstone 2/HCAD_Data/X_hear_train.csv')\n",
        "X_hear_test_scaled_df.to_csv('gdrive/My Drive/Springboard Capstone 2/HCAD_Data/X_hear_test.csv')\n",
        "y_hear_train_scaled_df.to_csv('gdrive/My Drive/Springboard Capstone 2/HCAD_Data/y_hear_train.csv')\n",
        "y_hear_test_scaled_df.to_csv('gdrive/My Drive/Springboard Capstone 2/HCAD_Data/y_hear_test.csv')\n",
        "X_val_train_scaled_df.to_csv('gdrive/My Drive/Springboard Capstone 2/HCAD_Data/X_val_train.csv')\n",
        "X_val_test_scaled_df.to_csv('gdrive/My Drive/Springboard Capstone 2/HCAD_Data/X_val_test.csv')\n",
        "y_val_train_scaled_df.to_csv('gdrive/My Drive/Springboard Capstone 2/HCAD_Data/y_val_train.csv')\n",
        "y_val_test_scaled_df.to_csv('gdrive/My Drive/Springboard Capstone 2/HCAD_Data/y_val_test.csv')"
      ],
      "execution_count": 24,
      "outputs": []
    }
  ]
}