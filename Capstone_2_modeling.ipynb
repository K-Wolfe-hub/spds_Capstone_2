{
  "nbformat": 4,
  "nbformat_minor": 0,
  "metadata": {
    "colab": {
      "name": "Capstone_2_modeling.ipynb",
      "provenance": [],
      "collapsed_sections": [],
      "toc_visible": true,
      "authorship_tag": "ABX9TyN+B2xqOwjbAqKyi1SXwdo1",
      "include_colab_link": true
    },
    "kernelspec": {
      "display_name": "Python 3",
      "name": "python3"
    },
    "language_info": {
      "name": "python"
    }
  },
  "cells": [
    {
      "cell_type": "markdown",
      "metadata": {
        "id": "view-in-github",
        "colab_type": "text"
      },
      "source": [
        "<a href=\"https://colab.research.google.com/github/K-Wolfe-hub/spds_Capstone_2/blob/main/Capstone_2_modeling.ipynb\" target=\"_parent\"><img src=\"https://colab.research.google.com/assets/colab-badge.svg\" alt=\"Open In Colab\"/></a>"
      ]
    },
    {
      "cell_type": "code",
      "metadata": {
        "colab": {
          "base_uri": "https://localhost:8080/"
        },
        "id": "Q-vQKtIeir2M",
        "outputId": "76ae927c-7048-4967-a3a6-dd0f5b4fce46"
      },
      "source": [
        "import pandas as pd\n",
        "import pathlib\n",
        "import matplotlib.pyplot as plt\n",
        "import numpy as np\n",
        "import seaborn as sns\n",
        "from sklearn import linear_model\n",
        "import statsmodels.api as sm\n",
        "from sklearn.model_selection import RandomizedSearchCV, GridSearchCV\n",
        "from sklearn.svm import SVR\n",
        "from sklearn.ensemble import RandomForestRegressor, RandomForestClassifier\n",
        "from sklearn.metrics import r2_score, mean_squared_error, mean_absolute_error\n",
        "from sklearn.pipeline import make_pipeline\n",
        "from sklearn.feature_selection import SelectKBest, f_regression\n",
        "from sklearn import tree, metrics"
      ],
      "execution_count": null,
      "outputs": [
        {
          "output_type": "stream",
          "text": [
            "/usr/local/lib/python3.7/dist-packages/statsmodels/tools/_testing.py:19: FutureWarning: pandas.util.testing is deprecated. Use the functions in the public API at pandas.testing instead.\n",
            "  import pandas.util.testing as tm\n"
          ],
          "name": "stderr"
        }
      ]
    },
    {
      "cell_type": "code",
      "metadata": {
        "colab": {
          "base_uri": "https://localhost:8080/"
        },
        "id": "i4TS2ImHjv-Q",
        "outputId": "286fde8e-c94d-4f69-9415-9a4ffc1c45b3"
      },
      "source": [
        "from google.colab import drive\n",
        "drive.mount(\"/content/gdrive\")"
      ],
      "execution_count": null,
      "outputs": [
        {
          "output_type": "stream",
          "text": [
            "Mounted at /content/gdrive\n"
          ],
          "name": "stdout"
        }
      ]
    },
    {
      "cell_type": "markdown",
      "metadata": {
        "id": "v8yqzb8T_7ZV"
      },
      "source": [
        "Loading 2 datasets that have been split into training and test. \\\\\n",
        "The first dataset with \"val\" in it's names will be used for modeling property values. This dataset has all of the value related data removed from the X dataframe to prevent autocorrolation. This dataset focuses on descriptive information about the property such as land/building size, building features, and geographic scaling factors generated in the EDA portion of the project. \\\\\n",
        "The second dataset with \"hear\" in its names contains the information from the previous dataset along with value information such as the previous apprasal value."
      ]
    },
    {
      "cell_type": "code",
      "metadata": {
        "colab": {
          "base_uri": "https://localhost:8080/",
          "height": 147
        },
        "id": "-DevvPG16SwJ",
        "outputId": "9079b8b2-b511-497d-ce66-04c2f0d12810"
      },
      "source": [
        "#read the preprocessed and scaled data from the data folder\n",
        "X_hear_train_scaled_df = pd.read_csv('gdrive/My Drive/Springboard Capstone 2/HCAD_Data/X_hear_train.csv')\n",
        "X_hear_test_scaled_df = pd.read_csv('gdrive/My Drive/Springboard Capstone 2/HCAD_Data/X_hear_test.csv')\n",
        "y_hear_train_df = pd.read_csv('gdrive/My Drive/Springboard Capstone 2/HCAD_Data/y_hear_train.csv')\n",
        "y_hear_test_df = pd.read_csv('gdrive/My Drive/Springboard Capstone 2/HCAD_Data/y_hear_test.csv')\n",
        "X_val_train_scaled_df = pd.read_csv('gdrive/My Drive/Springboard Capstone 2/HCAD_Data/X_val_train.csv')\n",
        "X_val_test_scaled_df = pd.read_csv('gdrive/My Drive/Springboard Capstone 2/HCAD_Data/X_val_test.csv')\n",
        "y_val_train_df = pd.read_csv('gdrive/My Drive/Springboard Capstone 2/HCAD_Data/y_val_train.csv')\n",
        "y_val_test_df = pd.read_csv('gdrive/My Drive/Springboard Capstone 2/HCAD_Data/y_val_test.csv')\n",
        "X_hear_train_scaled_df.head(2)"
      ],
      "execution_count": null,
      "outputs": [
        {
          "output_type": "execute_result",
          "data": {
            "text/html": [
              "<div>\n",
              "<style scoped>\n",
              "    .dataframe tbody tr th:only-of-type {\n",
              "        vertical-align: middle;\n",
              "    }\n",
              "\n",
              "    .dataframe tbody tr th {\n",
              "        vertical-align: top;\n",
              "    }\n",
              "\n",
              "    .dataframe thead th {\n",
              "        text-align: right;\n",
              "    }\n",
              "</style>\n",
              "<table border=\"1\" class=\"dataframe\">\n",
              "  <thead>\n",
              "    <tr style=\"text-align: right;\">\n",
              "      <th></th>\n",
              "      <th>Unnamed: 0</th>\n",
              "      <th>bld_ar</th>\n",
              "      <th>land_ar</th>\n",
              "      <th>land_val</th>\n",
              "      <th>bld_val</th>\n",
              "      <th>x_features_val</th>\n",
              "      <th>assessed_val</th>\n",
              "      <th>tot_appr_val</th>\n",
              "      <th>tot_mkt_val</th>\n",
              "      <th>prior_land_val</th>\n",
              "      <th>prior_bld_val</th>\n",
              "      <th>prior_x_features_val</th>\n",
              "      <th>prior_tot_appr_val</th>\n",
              "      <th>prior_tot_mkt_val</th>\n",
              "      <th>new_construction_val</th>\n",
              "      <th>tot_rcn_val</th>\n",
              "      <th>Initial_Appraised_Value</th>\n",
              "      <th>Initial_Market_Value</th>\n",
              "      <th>ATR</th>\n",
              "      <th>FPD</th>\n",
              "      <th>FPM</th>\n",
              "      <th>FPO</th>\n",
              "      <th>FPW</th>\n",
              "      <th>FXA</th>\n",
              "      <th>FXT</th>\n",
              "      <th>LLR</th>\n",
              "      <th>MAS</th>\n",
              "      <th>REL</th>\n",
              "      <th>RMB</th>\n",
              "      <th>RMF</th>\n",
              "      <th>RMH</th>\n",
              "      <th>RMR</th>\n",
              "      <th>RMT</th>\n",
              "      <th>STY</th>\n",
              "      <th>land_factor_school_dist</th>\n",
              "      <th>land_factor_Neighborhood_Code</th>\n",
              "      <th>land_factor_Neighborhood_Grp</th>\n",
              "      <th>land_factor_Market_Area_1</th>\n",
              "      <th>land_factor_Market_Area_2</th>\n",
              "      <th>land_factor_center_code</th>\n",
              "      <th>bld_val_per_ft2</th>\n",
              "      <th>bld_factor_school_dist</th>\n",
              "      <th>bld_factor_Neighborhood_Code</th>\n",
              "      <th>bld_factor_Neighborhood_Grp</th>\n",
              "      <th>bld_factor_Market_Area_1</th>\n",
              "      <th>bld_factor_Market_Area_2</th>\n",
              "      <th>bld_factor_center_code</th>\n",
              "      <th>tot_appr_val_inc</th>\n",
              "      <th>Cap_acct_Y</th>\n",
              "      <th>shared_cad_Y</th>\n",
              "      <th>Hearing_Type_I</th>\n",
              "      <th>Hearing_Type_N</th>\n",
              "      <th>Hearing_Type_R</th>\n",
              "      <th>Agent_Code_Owner</th>\n",
              "    </tr>\n",
              "  </thead>\n",
              "  <tbody>\n",
              "    <tr>\n",
              "      <th>0</th>\n",
              "      <td>0</td>\n",
              "      <td>-0.198729</td>\n",
              "      <td>-0.064149</td>\n",
              "      <td>0.163018</td>\n",
              "      <td>-0.586545</td>\n",
              "      <td>-0.294732</td>\n",
              "      <td>-0.203413</td>\n",
              "      <td>-0.190070</td>\n",
              "      <td>-0.203413</td>\n",
              "      <td>-0.054234</td>\n",
              "      <td>-0.300174</td>\n",
              "      <td>-0.296894</td>\n",
              "      <td>-0.176344</td>\n",
              "      <td>-0.191791</td>\n",
              "      <td>-0.107074</td>\n",
              "      <td>-0.466713</td>\n",
              "      <td>-0.198286</td>\n",
              "      <td>-0.212132</td>\n",
              "      <td>-0.03427</td>\n",
              "      <td>-0.181033</td>\n",
              "      <td>-0.694627</td>\n",
              "      <td>-0.061943</td>\n",
              "      <td>-0.482345</td>\n",
              "      <td>-0.820298</td>\n",
              "      <td>-0.601415</td>\n",
              "      <td>-0.007258</td>\n",
              "      <td>-0.189942</td>\n",
              "      <td>-0.060566</td>\n",
              "      <td>-0.429853</td>\n",
              "      <td>-0.094383</td>\n",
              "      <td>-0.840306</td>\n",
              "      <td>-0.697435</td>\n",
              "      <td>-1.060878</td>\n",
              "      <td>-0.728107</td>\n",
              "      <td>2.344139</td>\n",
              "      <td>0.091039</td>\n",
              "      <td>0.009446</td>\n",
              "      <td>0.750158</td>\n",
              "      <td>0.674328</td>\n",
              "      <td>1.401085</td>\n",
              "      <td>-1.227358</td>\n",
              "      <td>1.304960</td>\n",
              "      <td>-1.175675</td>\n",
              "      <td>-0.938148</td>\n",
              "      <td>-0.253086</td>\n",
              "      <td>-0.388709</td>\n",
              "      <td>0.673680</td>\n",
              "      <td>-0.193751</td>\n",
              "      <td>-0.541382</td>\n",
              "      <td>-0.303931</td>\n",
              "      <td>-0.441201</td>\n",
              "      <td>0.60702</td>\n",
              "      <td>-0.001679</td>\n",
              "      <td>-0.463422</td>\n",
              "    </tr>\n",
              "    <tr>\n",
              "      <th>1</th>\n",
              "      <td>1</td>\n",
              "      <td>0.494313</td>\n",
              "      <td>-0.245681</td>\n",
              "      <td>-0.182272</td>\n",
              "      <td>-0.233828</td>\n",
              "      <td>-0.294732</td>\n",
              "      <td>-0.237433</td>\n",
              "      <td>-0.427737</td>\n",
              "      <td>-0.237433</td>\n",
              "      <td>-0.209520</td>\n",
              "      <td>-0.212018</td>\n",
              "      <td>-0.296894</td>\n",
              "      <td>-0.429101</td>\n",
              "      <td>-0.243659</td>\n",
              "      <td>-0.107074</td>\n",
              "      <td>0.354437</td>\n",
              "      <td>-0.426822</td>\n",
              "      <td>-0.244496</td>\n",
              "      <td>-0.03427</td>\n",
              "      <td>-0.181033</td>\n",
              "      <td>-0.694627</td>\n",
              "      <td>-0.061943</td>\n",
              "      <td>-0.482345</td>\n",
              "      <td>0.428047</td>\n",
              "      <td>-0.113422</td>\n",
              "      <td>-0.007258</td>\n",
              "      <td>-0.189942</td>\n",
              "      <td>-0.060566</td>\n",
              "      <td>0.753266</td>\n",
              "      <td>-0.094383</td>\n",
              "      <td>-0.840306</td>\n",
              "      <td>-0.697435</td>\n",
              "      <td>0.625780</td>\n",
              "      <td>0.937108</td>\n",
              "      <td>1.296938</td>\n",
              "      <td>-0.085572</td>\n",
              "      <td>0.082472</td>\n",
              "      <td>0.435841</td>\n",
              "      <td>0.284880</td>\n",
              "      <td>-0.235599</td>\n",
              "      <td>-0.834574</td>\n",
              "      <td>-0.336423</td>\n",
              "      <td>-0.787298</td>\n",
              "      <td>-1.096563</td>\n",
              "      <td>-0.214499</td>\n",
              "      <td>-0.616618</td>\n",
              "      <td>-1.757294</td>\n",
              "      <td>-0.121074</td>\n",
              "      <td>1.847124</td>\n",
              "      <td>-0.303931</td>\n",
              "      <td>-0.441201</td>\n",
              "      <td>0.60702</td>\n",
              "      <td>-0.001679</td>\n",
              "      <td>-0.463422</td>\n",
              "    </tr>\n",
              "  </tbody>\n",
              "</table>\n",
              "</div>"
            ],
            "text/plain": [
              "   Unnamed: 0    bld_ar  ...  Hearing_Type_R  Agent_Code_Owner \n",
              "0           0 -0.198729  ...       -0.001679          -0.463422\n",
              "1           1  0.494313  ...       -0.001679          -0.463422\n",
              "\n",
              "[2 rows x 54 columns]"
            ]
          },
          "metadata": {
            "tags": []
          },
          "execution_count": 3
        }
      ]
    },
    {
      "cell_type": "code",
      "metadata": {
        "colab": {
          "base_uri": "https://localhost:8080/"
        },
        "id": "5GKdgcCoUxlB",
        "outputId": "8af55d33-524f-4969-8a65-96f0fb9305d5"
      },
      "source": [
        "X_hear_train_scaled_df.shape"
      ],
      "execution_count": null,
      "outputs": [
        {
          "output_type": "execute_result",
          "data": {
            "text/plain": [
              "(709393, 50)"
            ]
          },
          "metadata": {
            "tags": []
          },
          "execution_count": 17
        }
      ]
    },
    {
      "cell_type": "markdown",
      "metadata": {
        "id": "WnO-n_TIoUEL"
      },
      "source": [
        "# Total Appriasal Values prediction"
      ]
    },
    {
      "cell_type": "markdown",
      "metadata": {
        "id": "4c83eAoPonRn"
      },
      "source": [
        "## Simple linear Model with default parameters"
      ]
    },
    {
      "cell_type": "markdown",
      "metadata": {
        "id": "blOB9tijQvtT"
      },
      "source": [
        "Initial model for valuation will be just a linear model with the full \"val\" dataset. This is run with the default parameters."
      ]
    },
    {
      "cell_type": "code",
      "metadata": {
        "colab": {
          "base_uri": "https://localhost:8080/"
        },
        "id": "tdBIiGMp706O",
        "outputId": "96cbaddb-29bd-4526-8618-4d984d787113"
      },
      "source": [
        "#Simple linear model to develop a baseline\n",
        "rModel = linear_model.LinearRegression()\n",
        "rModel.fit(X_val_train_scaled_df,y_val_train_df['tot_appr_val'])\n",
        "rModel.score(X_val_train_scaled_df,y_val_train_df['tot_appr_val'])"
      ],
      "execution_count": null,
      "outputs": [
        {
          "output_type": "execute_result",
          "data": {
            "text/plain": [
              "0.7800303041887412"
            ]
          },
          "metadata": {
            "tags": []
          },
          "execution_count": 4
        }
      ]
    },
    {
      "cell_type": "code",
      "metadata": {
        "id": "0cf2kpoTS0Cf"
      },
      "source": [
        "y_val_pred = rModel.predict(X_val_test_scaled_df)"
      ],
      "execution_count": null,
      "outputs": []
    },
    {
      "cell_type": "code",
      "metadata": {
        "colab": {
          "base_uri": "https://localhost:8080/"
        },
        "id": "tbuLUa9T7t2j",
        "outputId": "ad35e28f-8e6c-44ca-8766-876414a0873d"
      },
      "source": [
        "print('Root Mean Squared Error for this model is: '+str(mean_squared_error(y_val_test_df['tot_appr_val'],y_val_pred, squared=False)))"
      ],
      "execution_count": null,
      "outputs": [
        {
          "output_type": "stream",
          "text": [
            "Root Mean Squared Error for this model is: 4352300.166354265\n"
          ],
          "name": "stdout"
        }
      ]
    },
    {
      "cell_type": "code",
      "metadata": {
        "colab": {
          "base_uri": "https://localhost:8080/",
          "height": 291
        },
        "id": "R1fnQDlnSzub",
        "outputId": "b3002032-02aa-41b1-87e8-11d5a55b47ad"
      },
      "source": [
        "# Let's plot the predictions against the actual result. Use scatter()\n",
        "plt.scatter(y_val_test_df['tot_appr_val'],y_val_pred)\n",
        "plt.ylim(0,10000000)\n",
        "plt.xlim(0,10000000)\n",
        "plt.xlabel('tot_appr_val')\n",
        "plt.ylabel('modeled value')\n",
        "plt.plot([3,1000000,25000000],[3,1000000,25000000],color='red')\n",
        "plt.show()"
      ],
      "execution_count": null,
      "outputs": [
        {
          "output_type": "display_data",
          "data": {
            "image/png": "[encoded data removed]",
            "text/plain": [
              "<Figure size 432x288 with 1 Axes>"
            ]
          },
          "metadata": {
            "tags": [],
            "needs_background": "light"
          }
        }
      ]
    },
    {
      "cell_type": "markdown",
      "metadata": {
        "id": "83o2dXcRqCqn"
      },
      "source": [
        "It looks like this model falls apart for higher value properties. I don't think this model is the best I can do."
      ]
    },
    {
      "cell_type": "markdown",
      "metadata": {
        "id": "HADVsXVIrPOq"
      },
      "source": [
        "## Simple Ridge Regression model with default parameters"
      ]
    },
    {
      "cell_type": "markdown",
      "metadata": {
        "id": "A4gl_xHZXxYx"
      },
      "source": [
        "Next I am going to use Ridge Regression to see if I can improve this model. I am attempting Ridge as some of the area factors that I created could be corrolated and this method should handel this better."
      ]
    },
    {
      "cell_type": "code",
      "metadata": {
        "colab": {
          "base_uri": "https://localhost:8080/"
        },
        "id": "ohBjKSz2qB0g",
        "outputId": "4d5a54c8-ec43-4180-d153-a5899a3a0705"
      },
      "source": [
        "#lets try something a bit more flexible\n",
        "ridg = linear_model.Ridge(random_state=42)\n",
        "ridg.fit(X_val_train_scaled_df,y_val_train_df['tot_appr_val'])\n",
        "ridg.score(X_val_train_scaled_df,y_val_train_df['tot_appr_val'])"
      ],
      "execution_count": null,
      "outputs": [
        {
          "output_type": "execute_result",
          "data": {
            "text/plain": [
              "0.7800303041336838"
            ]
          },
          "metadata": {
            "tags": []
          },
          "execution_count": 7
        }
      ]
    },
    {
      "cell_type": "code",
      "metadata": {
        "colab": {
          "base_uri": "https://localhost:8080/",
          "height": 291
        },
        "id": "qI5otDSMARFB",
        "outputId": "254f0773-b7cc-49c0-aaad-2d9229a02f94"
      },
      "source": [
        "y_val_pred = ridg.predict(X_val_test_scaled_df)\n",
        "# Let's plot the predictions against the actual result. Use scatter()\n",
        "plt.scatter(y_val_test_df['tot_appr_val'],y_val_pred)\n",
        "plt.ylim(0,10000000)\n",
        "plt.xlim(0,10000000)\n",
        "plt.xlabel('tot_appr_val')\n",
        "plt.ylabel('modeled value')\n",
        "plt.plot([3,1000000,25000000],[3,1000000,25000000],color='red')\n",
        "plt.show()"
      ],
      "execution_count": null,
      "outputs": [
        {
          "output_type": "display_data",
          "data": {
            "image/png": "[encoded data removed]",
            "text/plain": [
              "<Figure size 432x288 with 1 Axes>"
            ]
          },
          "metadata": {
            "tags": [],
            "needs_background": "light"
          }
        }
      ]
    },
    {
      "cell_type": "code",
      "metadata": {
        "colab": {
          "base_uri": "https://localhost:8080/"
        },
        "id": "UufQ3BPNGu6a",
        "outputId": "02fce87e-cfc0-41ef-efc0-d202f1d37c30"
      },
      "source": [
        "print('Root Mean Squared Error for this model is: '+str(mean_squared_error(y_val_test_df['tot_appr_val'],y_val_pred, squared=False)))"
      ],
      "execution_count": null,
      "outputs": [
        {
          "output_type": "stream",
          "text": [
            "Root Mean Squared Error for this model is: 4352357.061531916\n"
          ],
          "name": "stdout"
        }
      ]
    },
    {
      "cell_type": "markdown",
      "metadata": {
        "id": "iHr0Pr-sG9gw"
      },
      "source": [
        "This model performs slightly worse than the simple linear model (its RMSE is slightly higher). It also performs badly on the more expensive properties."
      ]
    },
    {
      "cell_type": "markdown",
      "metadata": {
        "id": "riEuH-LorgBN"
      },
      "source": [
        "## Ridge Regression with varaible Alphas"
      ]
    },
    {
      "cell_type": "markdown",
      "metadata": {
        "id": "vpa8FIJBZE7t"
      },
      "source": [
        "One more try to see if I can improve Ridge Regression by changing the alpha parameter to penalize corrolated variables more."
      ]
    },
    {
      "cell_type": "code",
      "metadata": {
        "colab": {
          "base_uri": "https://localhost:8080/"
        },
        "id": "OcNrec9lBP5k",
        "outputId": "9d353ad9-c522-4627-d889-e48a350d22c7"
      },
      "source": [
        "\n",
        "param_grid = {'alpha':[.01,1,10,100,1000]}\n",
        "ridg2 = linear_model.Ridge(random_state=42)\n",
        "ridg2_cv= RandomizedSearchCV(ridg2,param_grid,cv=5)\n",
        "ridg2_cv.fit(X_val_train_scaled_df,y_val_train_df['tot_appr_val'])\n",
        "print(ridg2_cv.best_score_)\n",
        "print(ridg2_cv.best_params_);"
      ],
      "execution_count": null,
      "outputs": [
        {
          "output_type": "stream",
          "text": [
            "/usr/local/lib/python3.7/dist-packages/sklearn/model_selection/_search.py:281: UserWarning: The total space of parameters 5 is smaller than n_iter=10. Running 5 iterations. For exhaustive searches, use GridSearchCV.\n",
            "  % (grid_size, self.n_iter, grid_size), UserWarning)\n"
          ],
          "name": "stderr"
        },
        {
          "output_type": "stream",
          "text": [
            "0.7796279975585374\n",
            "{'alpha': 10}\n"
          ],
          "name": "stdout"
        }
      ]
    },
    {
      "cell_type": "code",
      "metadata": {
        "colab": {
          "base_uri": "https://localhost:8080/",
          "height": 291
        },
        "id": "A2O4rvAiE_lb",
        "outputId": "a3a41745-31af-4d10-c41b-f062b6887671"
      },
      "source": [
        "y_val_pred = ridg2_cv.predict(X_val_test_scaled_df)\n",
        "# Let's plot the predictions against the actual result. Use scatter()\n",
        "plt.scatter(y_val_test_df['tot_appr_val'],y_val_pred)\n",
        "plt.ylim(0,10000000)\n",
        "plt.xlim(0,10000000)\n",
        "plt.xlabel('tot_appr_val')\n",
        "plt.ylabel('modeled value')\n",
        "plt.plot([3,1000000,25000000],[3,1000000,25000000],color='red')\n",
        "plt.show()"
      ],
      "execution_count": null,
      "outputs": [
        {
          "output_type": "display_data",
          "data": {
            "image/png": "[encoded data removed]",
            "text/plain": [
              "<Figure size 432x288 with 1 Axes>"
            ]
          },
          "metadata": {
            "tags": [],
            "needs_background": "light"
          }
        }
      ]
    },
    {
      "cell_type": "code",
      "metadata": {
        "colab": {
          "base_uri": "https://localhost:8080/"
        },
        "id": "ZU6ZPSx4Hyt1",
        "outputId": "72e3697a-ae15-4f85-db1f-efaa657e421e"
      },
      "source": [
        "print('Root Mean Squared Error for this model is: '+str(mean_squared_error(y_val_test_df['tot_appr_val'],y_val_pred, squared=False)))"
      ],
      "execution_count": null,
      "outputs": [
        {
          "output_type": "stream",
          "text": [
            "Root Mean Squared Error for this model is: 4352868.352978608\n"
          ],
          "name": "stdout"
        }
      ]
    },
    {
      "cell_type": "markdown",
      "metadata": {
        "id": "4jpe8u_MH2AP"
      },
      "source": [
        "This is even slightly worse than the first ridge model's performance. We are moving the wrong direction with these models."
      ]
    },
    {
      "cell_type": "markdown",
      "metadata": {
        "id": "2NdF_9Sbrzhq"
      },
      "source": [
        "## Linear regression with best* number of columns"
      ]
    },
    {
      "cell_type": "markdown",
      "metadata": {
        "id": "Xo_U1CBLaAgR"
      },
      "source": [
        "Going back to the previous best model (linear) I'm going to utilize SelectKBest to train the model using the best number of columns."
      ]
    },
    {
      "cell_type": "code",
      "metadata": {
        "colab": {
          "base_uri": "https://localhost:8080/"
        },
        "id": "xzgMPxZ59RFG",
        "outputId": "667561b9-0703-485c-8cbd-6104a49319f9"
      },
      "source": [
        "#Lets take a look to see if there are columns that are not helping with the modeling. Based on the workflow from the guided capstone. \n",
        "pipe = make_pipeline(SelectKBest(score_func= f_regression),linear_model.LinearRegression())\n",
        "pipe.fit(X_val_train_scaled_df,y_val_train_df['tot_appr_val'])\n",
        "y_tr_pred = pipe.predict(X_val_train_scaled_df)\n",
        "y_te_pred = pipe.predict(X_val_test_scaled_df)\n",
        "r2_score(y_val_train_df['tot_appr_val'], y_tr_pred), r2_score(y_val_test_df['tot_appr_val'], y_te_pred)"
      ],
      "execution_count": null,
      "outputs": [
        {
          "output_type": "execute_result",
          "data": {
            "text/plain": [
              "(0.7222052879073132, 0.7186330109543174)"
            ]
          },
          "metadata": {
            "tags": []
          },
          "execution_count": 13
        }
      ]
    },
    {
      "cell_type": "code",
      "metadata": {
        "colab": {
          "base_uri": "https://localhost:8080/",
          "height": 291
        },
        "id": "fzfQ8_xvf5IG",
        "outputId": "a0035d0c-21a8-4187-aadc-f34bc8378381"
      },
      "source": [
        "# Let's plot the predictions against the actual result. Use scatter()\n",
        "plt.scatter(y_val_test_df['tot_appr_val'],y_te_pred)\n",
        "plt.ylim(0,10000000)\n",
        "plt.xlim(0,10000000)\n",
        "plt.xlabel('tot_appr_val')\n",
        "plt.ylabel('modeled value')\n",
        "plt.plot([3,1000000,25000000],[3,1000000,25000000],color='red')\n",
        "plt.show()"
      ],
      "execution_count": null,
      "outputs": [
        {
          "output_type": "display_data",
          "data": {
            "image/png": "[encoded data removed]",
            "text/plain": [
              "<Figure size 432x288 with 1 Axes>"
            ]
          },
          "metadata": {
            "tags": [],
            "needs_background": "light"
          }
        }
      ]
    },
    {
      "cell_type": "code",
      "metadata": {
        "colab": {
          "base_uri": "https://localhost:8080/"
        },
        "id": "IB61rTPLIiy-",
        "outputId": "4fd665b0-b9e1-409b-c7dc-ad9b39a9b0e9"
      },
      "source": [
        "print('Root Mean Squared Error for this model is: '+str(mean_squared_error(y_val_test_df['tot_appr_val'],y_te_pred, squared=False)))"
      ],
      "execution_count": null,
      "outputs": [
        {
          "output_type": "stream",
          "text": [
            "Root Mean Squared Error for this model is: 167434.3080171558\n"
          ],
          "name": "stdout"
        }
      ]
    },
    {
      "cell_type": "markdown",
      "metadata": {
        "id": "xiUJ69UvOi0K"
      },
      "source": [
        "This model looks to be a significant improvement in RMSE despite visually not looking as though it has improved much. I'm curious based on this which columns are making an impact."
      ]
    },
    {
      "cell_type": "markdown",
      "metadata": {
        "id": "lE2exSvXsRkZ"
      },
      "source": [
        "## Evaluating column strength"
      ]
    },
    {
      "cell_type": "markdown",
      "metadata": {
        "id": "hwGV0LNI-_eq"
      },
      "source": [
        "I next want to try a Random Forest Regressor, but with all columns for this dataset the fit step kept failing after several hours. I am going to decrease the number of columns to the columns that showed as most impactful in the following step in my random forest model."
      ]
    },
    {
      "cell_type": "code",
      "metadata": {
        "colab": {
          "base_uri": "https://localhost:8080/"
        },
        "id": "6yoQilrL--2b",
        "outputId": "af9f5ee6-db57-485a-8af9-808bb23d27ad"
      },
      "source": [
        "#Also following the example from the guided capstone.\n",
        "k = [k+1 for k in range(len(X_val_train_scaled_df.columns))]\n",
        "grid_params = {'selectkbest__k': k}\n",
        "lr_grid_cv = GridSearchCV(pipe, param_grid=grid_params, cv=5, n_jobs=-1)\n",
        "lr_grid_cv.fit(X_val_train_scaled_df, y_val_train_df['tot_appr_val'])\n",
        "score_mean = lr_grid_cv.cv_results_['mean_test_score']\n",
        "score_std = lr_grid_cv.cv_results_['std_test_score']\n",
        "cv_k = [k for k in lr_grid_cv.cv_results_['param_selectkbest__k']]\n",
        "lr_grid_cv.best_params_"
      ],
      "execution_count": null,
      "outputs": [
        {
          "output_type": "stream",
          "text": [
            "/usr/local/lib/python3.7/dist-packages/joblib/externals/loky/process_executor.py:691: UserWarning: A worker stopped while some jobs were given to the executor. This can be caused by a too short worker timeout or by a memory leak.\n",
            "  \"timeout or by a memory leak.\", UserWarning\n"
          ],
          "name": "stderr"
        },
        {
          "output_type": "execute_result",
          "data": {
            "text/plain": [
              "{'selectkbest__k': 32}"
            ]
          },
          "metadata": {
            "tags": []
          },
          "execution_count": 28
        }
      ]
    },
    {
      "cell_type": "code",
      "metadata": {
        "colab": {
          "base_uri": "https://localhost:8080/",
          "height": 350
        },
        "id": "ly9ObZoh_zIr",
        "outputId": "9f8a76f8-ec5a-4df0-a27f-0d3e07d7709e"
      },
      "source": [
        "#plot of the CV score as each new feature is added to the model.\n",
        "best_k = lr_grid_cv.best_params_['selectkbest__k']\n",
        "plt.subplots(figsize=(10, 5))\n",
        "plt.errorbar(cv_k, score_mean, yerr=score_std)\n",
        "plt.axvline(x=best_k, c='r', ls='--', alpha=.5)\n",
        "plt.xlabel('k')\n",
        "plt.ylabel('CV score (r-squared)')\n",
        "plt.title('Pipeline mean CV score (error bars +/- 1sd)');"
      ],
      "execution_count": null,
      "outputs": [
        {
          "output_type": "display_data",
          "data": {
            "image/png": "[encoded data removed]",
            "text/plain": [
              "<Figure size 720x360 with 1 Axes>"
            ]
          },
          "metadata": {
            "tags": [],
            "needs_background": "light"
          }
        }
      ]
    },
    {
      "cell_type": "code",
      "metadata": {
        "colab": {
          "base_uri": "https://localhost:8080/"
        },
        "id": "0qwRtrYbHUw0",
        "outputId": "92d72319-63e7-41fb-efa2-3e90b07fcea5"
      },
      "source": [
        "#It looks like the first 9 variables are providing most of the uplift. I wonder what they are?\n",
        "selected = lr_grid_cv.best_estimator_.named_steps.selectkbest.get_support()\n",
        "coefs = lr_grid_cv.best_estimator_.named_steps.linearregression.coef_\n",
        "features = X_val_train_scaled_df.columns[selected]\n",
        "pd.Series(coefs, index=features).sort_values(ascending=False).head(9)"
      ],
      "execution_count": null,
      "outputs": [
        {
          "output_type": "execute_result",
          "data": {
            "text/plain": [
              "bld_ar                          196481.715327\n",
              "FXT                              95616.844765\n",
              "land_factor_Neighborhood_Grp     83342.560572\n",
              "bld_val_per_ft2                  80786.823046\n",
              "bld_factor_Market_Area_1         52032.639210\n",
              "land_factor_Market_Area_1        44649.867188\n",
              "land_factor_school_dist          23954.005715\n",
              "land_factor_Market_Area_2        23756.020628\n",
              "land_ar                          21106.014048\n",
              "dtype: float64"
            ]
          },
          "metadata": {
            "tags": []
          },
          "execution_count": 30
        }
      ]
    },
    {
      "cell_type": "markdown",
      "metadata": {
        "id": "PTUBlOT1LEge"
      },
      "source": [
        "It seems interesting that the highest influence are 1) the size of the home, 2) how many rooms the home has, 3) which neighborhood group the properties land is in. With just these 3 we are at .67 of the variance explained which is impressive since the other 29 columns only gets the model .78. The other important factors seem to be land location related."
      ]
    },
    {
      "cell_type": "markdown",
      "metadata": {
        "id": "49tw_9leuBGW"
      },
      "source": [
        "## RandomForestRegressor with 9 highest influence"
      ]
    },
    {
      "cell_type": "markdown",
      "metadata": {
        "id": "Ufu3c8GEctbv"
      },
      "source": [
        "Now with only the nine most influential columns I'll see if the random forest regressor performs any better."
      ]
    },
    {
      "cell_type": "code",
      "metadata": {
        "id": "bRhkVVlpNHe9"
      },
      "source": [
        "cols_to_keep = ['bld_ar','FXT ','land_factor_Neighborhood_Grp','bld_val_per_ft2','bld_factor_Market_Area_1','land_factor_Market_Area_1','land_factor_school_dist','land_factor_Market_Area_2','land_ar']\n",
        "X_val_train_red = X_val_train_scaled_df[cols_to_keep]"
      ],
      "execution_count": null,
      "outputs": []
    },
    {
      "cell_type": "code",
      "metadata": {
        "colab": {
          "base_uri": "https://localhost:8080/"
        },
        "id": "8IusOImSVx4K",
        "outputId": "252928b7-b05b-4483-e337-201e49e7daea"
      },
      "source": [
        "RF_reg = RandomForestRegressor(random_state=47)\n",
        "RF_reg.fit(X_val_train_red,y_val_train_df['tot_appr_val'])\n",
        "RF_reg.score(X_val_train_red,y_val_train_df['tot_appr_val'])"
      ],
      "execution_count": null,
      "outputs": [
        {
          "output_type": "execute_result",
          "data": {
            "text/plain": [
              "0.9964663497295446"
            ]
          },
          "metadata": {
            "tags": []
          },
          "execution_count": 18
        }
      ]
    },
    {
      "cell_type": "markdown",
      "metadata": {
        "id": "GQk83AwIcwcJ"
      },
      "source": [
        "Well that seems like an extreamly good fit to the training dataset... time to see how it generalizes."
      ]
    },
    {
      "cell_type": "code",
      "metadata": {
        "colab": {
          "base_uri": "https://localhost:8080/"
        },
        "id": "Y10m259ScsmK",
        "outputId": "0eebb55f-b5f5-4f9b-c5a8-fb4aedf413ed"
      },
      "source": [
        "X_val_test_red = X_val_test_scaled_df[cols_to_keep]\n",
        "y_tr_pred = RF_reg.predict(X_val_train_red)\n",
        "y_tst_pred = RF_reg.predict(X_val_test_red)\n",
        "r2_score(y_val_train_df['tot_appr_val'], y_tr_pred), r2_score(y_val_test_df['tot_appr_val'], y_tst_pred)"
      ],
      "execution_count": null,
      "outputs": [
        {
          "output_type": "execute_result",
          "data": {
            "text/plain": [
              "(0.9964663497295445, 0.974500867057765)"
            ]
          },
          "metadata": {
            "tags": []
          },
          "execution_count": 19
        }
      ]
    },
    {
      "cell_type": "code",
      "metadata": {
        "colab": {
          "base_uri": "https://localhost:8080/",
          "height": 291
        },
        "id": "_d_29hqqGzib",
        "outputId": "b9b0ad25-1821-420d-a14e-9f0d43427e55"
      },
      "source": [
        "# Let's plot the training predictions against the actual result. Use scatter()\n",
        "plt.scatter(y_val_train_df['tot_appr_val'],y_tr_pred)\n",
        "plt.ylim(0,10000000)\n",
        "plt.xlim(0,10000000)\n",
        "plt.xlabel('tot_appr_val')\n",
        "plt.ylabel('modeled value')\n",
        "plt.plot([3,1000000,25000000],[3,1000000,25000000],color='red')\n",
        "plt.show()"
      ],
      "execution_count": null,
      "outputs": [
        {
          "output_type": "display_data",
          "data": {
            "image/png": "[encoded data removed]",
            "text/plain": [
              "<Figure size 432x288 with 1 Axes>"
            ]
          },
          "metadata": {
            "tags": [],
            "needs_background": "light"
          }
        }
      ]
    },
    {
      "cell_type": "code",
      "metadata": {
        "colab": {
          "base_uri": "https://localhost:8080/",
          "height": 291
        },
        "id": "xzrCAz9ydnB1",
        "outputId": "d8239c97-e42e-4b89-b652-8c423a2c2135"
      },
      "source": [
        "# Let's plot the test predictions against the actual result. Use scatter()\n",
        "plt.scatter(y_val_test_df['tot_appr_val'],y_tst_pred)\n",
        "plt.ylim(0,10000000)\n",
        "plt.xlim(0,10000000)\n",
        "plt.xlabel('tot_appr_val')\n",
        "plt.ylabel('modeled value')\n",
        "plt.plot([3,1000000,25000000],[3,1000000,25000000],color='red')\n",
        "plt.show()"
      ],
      "execution_count": null,
      "outputs": [
        {
          "output_type": "display_data",
          "data": {
            "image/png": "[encoded data removed]",
            "text/plain": [
              "<Figure size 432x288 with 1 Axes>"
            ]
          },
          "metadata": {
            "tags": [],
            "needs_background": "light"
          }
        }
      ]
    },
    {
      "cell_type": "code",
      "metadata": {
        "colab": {
          "base_uri": "https://localhost:8080/"
        },
        "id": "NToFNovAJ3ht",
        "outputId": "4ae8cfdc-fefb-4a54-aa02-7023caf99212"
      },
      "source": [
        "print('Root Mean Squared Error for this model is: '+str(mean_squared_error(y_val_test_df['tot_appr_val'],y_tst_pred, squared=False)))"
      ],
      "execution_count": null,
      "outputs": [
        {
          "output_type": "stream",
          "text": [
            "Root Mean Squared Error for this model is: 50404.648048785755\n"
          ],
          "name": "stdout"
        }
      ]
    },
    {
      "cell_type": "markdown",
      "metadata": {
        "id": "kBRfURUOGiGu"
      },
      "source": [
        "This Random Forest Regressor is by far the best model so far visually it does a good job of predicting the test data even at higher values. With a RMSE that is a third of the next best model this is the model I would move forward with at this time. This model seems to do a good job of predicting single family home values."
      ]
    },
    {
      "cell_type": "markdown",
      "metadata": {
        "id": "j0BCyeO6oE3r"
      },
      "source": [
        "# **Protest Prediction**"
      ]
    },
    {
      "cell_type": "markdown",
      "metadata": {
        "id": "MSfX1i_Ld04R"
      },
      "source": [
        "In the second section of this project is to identify if I can predict which properties are likely to file a protest."
      ]
    },
    {
      "cell_type": "markdown",
      "metadata": {
        "id": "jdFRR9dSgFji"
      },
      "source": [
        "I actually need to drop a couple additional columns from the X data after I realized that these catagorical columns would 100% correlate with properties that had a protest."
      ]
    },
    {
      "cell_type": "code",
      "metadata": {
        "colab": {
          "base_uri": "https://localhost:8080/",
          "height": 337
        },
        "id": "XSuyxfmC79HQ",
        "outputId": "e58ee47a-f425-4bb0-ad47-1793d6415d99"
      },
      "source": [
        "#need to drop a couple catigorical columns that only have a value if there was a protest...\n",
        "X_hear_train_scaled_df = X_hear_train_scaled_df.drop(columns=['Hearing_Type_I','Hearing_Type_N','Hearing_Type_R','Agent_Code_Owner '])\n",
        "X_hear_test_scaled_df = X_hear_test_scaled_df.drop(columns=['Hearing_Type_I','Hearing_Type_N','Hearing_Type_R','Agent_Code_Owner '])"
      ],
      "execution_count": null,
      "outputs": [
        {
          "output_type": "error",
          "ename": "KeyError",
          "evalue": "ignored",
          "traceback": [
            "\u001b[0;31m---------------------------------------------------------------------------\u001b[0m",
            "\u001b[0;31mKeyError\u001b[0m                                  Traceback (most recent call last)",
            "\u001b[0;32m<ipython-input-37-e4a084f4c62a>\u001b[0m in \u001b[0;36m<module>\u001b[0;34m()\u001b[0m\n\u001b[1;32m      1\u001b[0m \u001b[0;31m#need to drop a couple catigorical columns that only have a value if there was a protest...\u001b[0m\u001b[0;34m\u001b[0m\u001b[0;34m\u001b[0m\u001b[0;34m\u001b[0m\u001b[0m\n\u001b[0;32m----> 2\u001b[0;31m \u001b[0mX_hear_train_scaled_df\u001b[0m \u001b[0;34m=\u001b[0m \u001b[0mX_hear_train_scaled_df\u001b[0m\u001b[0;34m.\u001b[0m\u001b[0mdrop\u001b[0m\u001b[0;34m(\u001b[0m\u001b[0mcolumns\u001b[0m\u001b[0;34m=\u001b[0m\u001b[0;34m[\u001b[0m\u001b[0;34m'Hearing_Type_I'\u001b[0m\u001b[0;34m,\u001b[0m\u001b[0;34m'Hearing_Type_N'\u001b[0m\u001b[0;34m,\u001b[0m\u001b[0;34m'Hearing_Type_R'\u001b[0m\u001b[0;34m,\u001b[0m\u001b[0;34m'Agent_Code_Owner '\u001b[0m\u001b[0;34m]\u001b[0m\u001b[0;34m)\u001b[0m\u001b[0;34m\u001b[0m\u001b[0;34m\u001b[0m\u001b[0m\n\u001b[0m\u001b[1;32m      3\u001b[0m \u001b[0mX_hear_test_scaled_df\u001b[0m \u001b[0;34m=\u001b[0m \u001b[0mX_hear_test_scaled_df\u001b[0m\u001b[0;34m.\u001b[0m\u001b[0mdrop\u001b[0m\u001b[0;34m(\u001b[0m\u001b[0mcolumns\u001b[0m\u001b[0;34m=\u001b[0m\u001b[0;34m[\u001b[0m\u001b[0;34m'Hearing_Type_I'\u001b[0m\u001b[0;34m,\u001b[0m\u001b[0;34m'Hearing_Type_N'\u001b[0m\u001b[0;34m,\u001b[0m\u001b[0;34m'Hearing_Type_R'\u001b[0m\u001b[0;34m,\u001b[0m\u001b[0;34m'Agent_Code_Owner '\u001b[0m\u001b[0;34m]\u001b[0m\u001b[0;34m)\u001b[0m\u001b[0;34m\u001b[0m\u001b[0;34m\u001b[0m\u001b[0m\n",
            "\u001b[0;32m/usr/local/lib/python3.7/dist-packages/pandas/core/frame.py\u001b[0m in \u001b[0;36mdrop\u001b[0;34m(self, labels, axis, index, columns, level, inplace, errors)\u001b[0m\n\u001b[1;32m   4172\u001b[0m             \u001b[0mlevel\u001b[0m\u001b[0;34m=\u001b[0m\u001b[0mlevel\u001b[0m\u001b[0;34m,\u001b[0m\u001b[0;34m\u001b[0m\u001b[0;34m\u001b[0m\u001b[0m\n\u001b[1;32m   4173\u001b[0m             \u001b[0minplace\u001b[0m\u001b[0;34m=\u001b[0m\u001b[0minplace\u001b[0m\u001b[0;34m,\u001b[0m\u001b[0;34m\u001b[0m\u001b[0;34m\u001b[0m\u001b[0m\n\u001b[0;32m-> 4174\u001b[0;31m             \u001b[0merrors\u001b[0m\u001b[0;34m=\u001b[0m\u001b[0merrors\u001b[0m\u001b[0;34m,\u001b[0m\u001b[0;34m\u001b[0m\u001b[0;34m\u001b[0m\u001b[0m\n\u001b[0m\u001b[1;32m   4175\u001b[0m         )\n\u001b[1;32m   4176\u001b[0m \u001b[0;34m\u001b[0m\u001b[0m\n",
            "\u001b[0;32m/usr/local/lib/python3.7/dist-packages/pandas/core/generic.py\u001b[0m in \u001b[0;36mdrop\u001b[0;34m(self, labels, axis, index, columns, level, inplace, errors)\u001b[0m\n\u001b[1;32m   3887\u001b[0m         \u001b[0;32mfor\u001b[0m \u001b[0maxis\u001b[0m\u001b[0;34m,\u001b[0m \u001b[0mlabels\u001b[0m \u001b[0;32min\u001b[0m \u001b[0maxes\u001b[0m\u001b[0;34m.\u001b[0m\u001b[0mitems\u001b[0m\u001b[0;34m(\u001b[0m\u001b[0;34m)\u001b[0m\u001b[0;34m:\u001b[0m\u001b[0;34m\u001b[0m\u001b[0;34m\u001b[0m\u001b[0m\n\u001b[1;32m   3888\u001b[0m             \u001b[0;32mif\u001b[0m \u001b[0mlabels\u001b[0m \u001b[0;32mis\u001b[0m \u001b[0;32mnot\u001b[0m \u001b[0;32mNone\u001b[0m\u001b[0;34m:\u001b[0m\u001b[0;34m\u001b[0m\u001b[0;34m\u001b[0m\u001b[0m\n\u001b[0;32m-> 3889\u001b[0;31m                 \u001b[0mobj\u001b[0m \u001b[0;34m=\u001b[0m \u001b[0mobj\u001b[0m\u001b[0;34m.\u001b[0m\u001b[0m_drop_axis\u001b[0m\u001b[0;34m(\u001b[0m\u001b[0mlabels\u001b[0m\u001b[0;34m,\u001b[0m \u001b[0maxis\u001b[0m\u001b[0;34m,\u001b[0m \u001b[0mlevel\u001b[0m\u001b[0;34m=\u001b[0m\u001b[0mlevel\u001b[0m\u001b[0;34m,\u001b[0m \u001b[0merrors\u001b[0m\u001b[0;34m=\u001b[0m\u001b[0merrors\u001b[0m\u001b[0;34m)\u001b[0m\u001b[0;34m\u001b[0m\u001b[0;34m\u001b[0m\u001b[0m\n\u001b[0m\u001b[1;32m   3890\u001b[0m \u001b[0;34m\u001b[0m\u001b[0m\n\u001b[1;32m   3891\u001b[0m         \u001b[0;32mif\u001b[0m \u001b[0minplace\u001b[0m\u001b[0;34m:\u001b[0m\u001b[0;34m\u001b[0m\u001b[0;34m\u001b[0m\u001b[0m\n",
            "\u001b[0;32m/usr/local/lib/python3.7/dist-packages/pandas/core/generic.py\u001b[0m in \u001b[0;36m_drop_axis\u001b[0;34m(self, labels, axis, level, errors)\u001b[0m\n\u001b[1;32m   3921\u001b[0m                 \u001b[0mnew_axis\u001b[0m \u001b[0;34m=\u001b[0m \u001b[0maxis\u001b[0m\u001b[0;34m.\u001b[0m\u001b[0mdrop\u001b[0m\u001b[0;34m(\u001b[0m\u001b[0mlabels\u001b[0m\u001b[0;34m,\u001b[0m \u001b[0mlevel\u001b[0m\u001b[0;34m=\u001b[0m\u001b[0mlevel\u001b[0m\u001b[0;34m,\u001b[0m \u001b[0merrors\u001b[0m\u001b[0;34m=\u001b[0m\u001b[0merrors\u001b[0m\u001b[0;34m)\u001b[0m\u001b[0;34m\u001b[0m\u001b[0;34m\u001b[0m\u001b[0m\n\u001b[1;32m   3922\u001b[0m             \u001b[0;32melse\u001b[0m\u001b[0;34m:\u001b[0m\u001b[0;34m\u001b[0m\u001b[0;34m\u001b[0m\u001b[0m\n\u001b[0;32m-> 3923\u001b[0;31m                 \u001b[0mnew_axis\u001b[0m \u001b[0;34m=\u001b[0m \u001b[0maxis\u001b[0m\u001b[0;34m.\u001b[0m\u001b[0mdrop\u001b[0m\u001b[0;34m(\u001b[0m\u001b[0mlabels\u001b[0m\u001b[0;34m,\u001b[0m \u001b[0merrors\u001b[0m\u001b[0;34m=\u001b[0m\u001b[0merrors\u001b[0m\u001b[0;34m)\u001b[0m\u001b[0;34m\u001b[0m\u001b[0;34m\u001b[0m\u001b[0m\n\u001b[0m\u001b[1;32m   3924\u001b[0m             \u001b[0mresult\u001b[0m \u001b[0;34m=\u001b[0m \u001b[0mself\u001b[0m\u001b[0;34m.\u001b[0m\u001b[0mreindex\u001b[0m\u001b[0;34m(\u001b[0m\u001b[0;34m**\u001b[0m\u001b[0;34m{\u001b[0m\u001b[0maxis_name\u001b[0m\u001b[0;34m:\u001b[0m \u001b[0mnew_axis\u001b[0m\u001b[0;34m}\u001b[0m\u001b[0;34m)\u001b[0m\u001b[0;34m\u001b[0m\u001b[0;34m\u001b[0m\u001b[0m\n\u001b[1;32m   3925\u001b[0m \u001b[0;34m\u001b[0m\u001b[0m\n",
            "\u001b[0;32m/usr/local/lib/python3.7/dist-packages/pandas/core/indexes/base.py\u001b[0m in \u001b[0;36mdrop\u001b[0;34m(self, labels, errors)\u001b[0m\n\u001b[1;32m   5285\u001b[0m         \u001b[0;32mif\u001b[0m \u001b[0mmask\u001b[0m\u001b[0;34m.\u001b[0m\u001b[0many\u001b[0m\u001b[0;34m(\u001b[0m\u001b[0;34m)\u001b[0m\u001b[0;34m:\u001b[0m\u001b[0;34m\u001b[0m\u001b[0;34m\u001b[0m\u001b[0m\n\u001b[1;32m   5286\u001b[0m             \u001b[0;32mif\u001b[0m \u001b[0merrors\u001b[0m \u001b[0;34m!=\u001b[0m \u001b[0;34m\"ignore\"\u001b[0m\u001b[0;34m:\u001b[0m\u001b[0;34m\u001b[0m\u001b[0;34m\u001b[0m\u001b[0m\n\u001b[0;32m-> 5287\u001b[0;31m                 \u001b[0;32mraise\u001b[0m \u001b[0mKeyError\u001b[0m\u001b[0;34m(\u001b[0m\u001b[0;34mf\"{labels[mask]} not found in axis\"\u001b[0m\u001b[0;34m)\u001b[0m\u001b[0;34m\u001b[0m\u001b[0;34m\u001b[0m\u001b[0m\n\u001b[0m\u001b[1;32m   5288\u001b[0m             \u001b[0mindexer\u001b[0m \u001b[0;34m=\u001b[0m \u001b[0mindexer\u001b[0m\u001b[0;34m[\u001b[0m\u001b[0;34m~\u001b[0m\u001b[0mmask\u001b[0m\u001b[0;34m]\u001b[0m\u001b[0;34m\u001b[0m\u001b[0;34m\u001b[0m\u001b[0m\n\u001b[1;32m   5289\u001b[0m         \u001b[0;32mreturn\u001b[0m \u001b[0mself\u001b[0m\u001b[0;34m.\u001b[0m\u001b[0mdelete\u001b[0m\u001b[0;34m(\u001b[0m\u001b[0mindexer\u001b[0m\u001b[0;34m)\u001b[0m\u001b[0;34m\u001b[0m\u001b[0;34m\u001b[0m\u001b[0m\n",
            "\u001b[0;31mKeyError\u001b[0m: \"['Hearing_Type_I' 'Hearing_Type_N' 'Hearing_Type_R' 'Agent_Code_Owner '] not found in axis\""
          ]
        }
      ]
    },
    {
      "cell_type": "markdown",
      "metadata": {
        "id": "lZjXXpP6vCIb"
      },
      "source": [
        "## Default Entropy Decision Tree"
      ]
    },
    {
      "cell_type": "markdown",
      "metadata": {
        "id": "9jNnnJE4gpI4"
      },
      "source": [
        "The first model that I will attempt is a Decision Tree Classifier to establish a baseline."
      ]
    },
    {
      "cell_type": "code",
      "metadata": {
        "colab": {
          "base_uri": "https://localhost:8080/"
        },
        "id": "7mc-vVxiW9ay",
        "outputId": "f1babc5b-f206-48ea-9912-e2a0184f7633"
      },
      "source": [
        "#Time to start working at figuring out if I can correctly classify which properties are more likely to protest.\n",
        "#some of the following workflow and code is based on https://github.com/K-Wolfe-hub/Springboard/blob/fb65c2302b657ae94cff01066a32b5c1bacb4d8f/Decision_Trees/Springboard%20Decision%20Tree%20Specialty%20Coffee%20Case%20Study%20-%20Tier%203.ipynb\n",
        "dtc_simple = tree.DecisionTreeClassifier(criterion='entropy',random_state=1234)\n",
        "dtc_simple.fit(X_hear_train_scaled_df,y_hear_train_df['protested_Y']) \n",
        "y_pred = dtc_simple.predict(X_hear_test_scaled_df) \n",
        "pd.Series(y_pred)"
      ],
      "execution_count": null,
      "outputs": [
        {
          "output_type": "execute_result",
          "data": {
            "text/plain": [
              "0         0\n",
              "1         1\n",
              "2         0\n",
              "3         0\n",
              "4         0\n",
              "         ..\n",
              "349399    0\n",
              "349400    0\n",
              "349401    0\n",
              "349402    0\n",
              "349403    0\n",
              "Length: 349404, dtype: int64"
            ]
          },
          "metadata": {
            "tags": []
          },
          "execution_count": 38
        }
      ]
    },
    {
      "cell_type": "code",
      "metadata": {
        "colab": {
          "base_uri": "https://localhost:8080/"
        },
        "id": "HHeOG9ojbfLP",
        "outputId": "be5cd7f8-26da-4798-f783-06ac85d0cbc6"
      },
      "source": [
        "print(\"Model Entropy - no max depth\")\n",
        "print(\"Accuracy:\", metrics.accuracy_score(y_hear_test_df['protested_Y'],y_pred))\n",
        "print(\"Balanced accuracy:\", metrics.balanced_accuracy_score(y_hear_test_df['protested_Y'],y_pred))\n",
        "print('Precision score for \"Yes\"' , metrics.precision_score(y_hear_test_df['protested_Y'],y_pred, pos_label = 1))\n",
        "print('Precision score for \"No\"' , metrics.precision_score(y_hear_test_df['protested_Y'],y_pred, pos_label = 0))\n",
        "print('Recall score for \"Yes\"' , metrics.recall_score(y_hear_test_df['protested_Y'],y_pred, pos_label = 1))\n",
        "print('Recall score for \"No\"' , metrics.recall_score(y_hear_test_df['protested_Y'],y_pred, pos_label = 0))"
      ],
      "execution_count": null,
      "outputs": [
        {
          "output_type": "stream",
          "text": [
            "Model Entropy - no max depth\n",
            "Accuracy: 0.8567703861432611\n",
            "Balanced accuracy: 0.8207715852139422\n",
            "Precision score for \"Yes\" 0.7385104327866809\n",
            "Precision score for \"No\" 0.9017544968611849\n",
            "Recall score for \"Yes\" 0.7408881572092442\n",
            "Recall score for \"No\" 0.9006550132186403\n"
          ],
          "name": "stdout"
        }
      ]
    },
    {
      "cell_type": "markdown",
      "metadata": {
        "id": "0qGeDuQyh2Of"
      },
      "source": [
        "This model looks to have done a good job of predicting protests. Precision and Recall for \"Yes\" is the most interesting measure of performance to me as Precision is telling me what proportion of my predicted protests actually protested and Recall is what proportion of my actual protests did I correctly predict. This model seems well balanced in I fail to correctly predict about as many actual protests as I predict protests that didn't happen (see confusion matrix below)."
      ]
    },
    {
      "cell_type": "code",
      "metadata": {
        "colab": {
          "base_uri": "https://localhost:8080/"
        },
        "id": "omjnmtaalfJW",
        "outputId": "5941d383-c491-40c9-8973-805d65b748e0"
      },
      "source": [
        "confusion_matrix = pd.crosstab(y_hear_test_df['protested_Y'],y_pred, rownames=['Actual'], colnames=['Predicted'])\n",
        "print (confusion_matrix)"
      ],
      "execution_count": null,
      "outputs": [
        {
          "output_type": "stream",
          "text": [
            "Predicted       0      1\n",
            "Actual                  \n",
            "0          228253  25177\n",
            "1           24868  71106\n"
          ],
          "name": "stdout"
        }
      ]
    },
    {
      "cell_type": "code",
      "metadata": {
        "colab": {
          "base_uri": "https://localhost:8080/"
        },
        "id": "La-GPBFGot57",
        "outputId": "4b0836e2-aee7-43f4-96e0-4be13c635640"
      },
      "source": [
        "dtc_simple.get_depth()"
      ],
      "execution_count": null,
      "outputs": [
        {
          "output_type": "execute_result",
          "data": {
            "text/plain": [
              "84"
            ]
          },
          "metadata": {
            "tags": []
          },
          "execution_count": 41
        }
      ]
    },
    {
      "cell_type": "markdown",
      "metadata": {
        "id": "ZsHrDKoevPXd"
      },
      "source": [
        "## Gini GridSearchCV Decision Tree, multi depth, multi min_samples_leaf"
      ]
    },
    {
      "cell_type": "markdown",
      "metadata": {
        "id": "p-EPhV_-lu6i"
      },
      "source": [
        "Using GridSearchCV I'll see if I can improve the Decision Tree Model."
      ]
    },
    {
      "cell_type": "code",
      "metadata": {
        "id": "RLfMXxmOlXl8"
      },
      "source": [
        "'''#I wonder how much better we can do\n",
        "para = {'criterion':['gini'], 'max_depth':np.arange(2,30),'min_samples_leaf':[0.01,0.02,0.05,0.1]}\n",
        "dtc = tree.DecisionTreeClassifier(random_state=1234)\n",
        "dtc_cv = GridSearchCV(dtc,para,cv=5)\n",
        "dtc_cv.fit(X_hear_train_scaled_df,y_hear_train_df['protested_Y']) \n",
        "y_pred2 = dtc_cv.predict(X_hear_test_scaled_df) \n",
        "print(dtc_cv.best_params_)\n",
        "print(\"Accuracy:\", metrics.accuracy_score(y_hear_test_df['protested_Y'],y_pred2))\n",
        "print(\"Balanced accuracy:\", metrics.balanced_accuracy_score(y_hear_test_df['protested_Y'],y_pred2))\n",
        "print('Precision score for \"Yes\"' , metrics.precision_score(y_hear_test_df['protested_Y'],y_pred2, pos_label = 1))\n",
        "print('Precision score for \"No\"' , metrics.precision_score(y_hear_test_df['protested_Y'],y_pred2, pos_label = 0))\n",
        "print('Recall score for \"Yes\"' , metrics.recall_score(y_hear_test_df['protested_Y'],y_pred2, pos_label = 1))\n",
        "print('Recall score for \"No\"' , metrics.recall_score(y_hear_test_df['protested_Y'],y_pred2, pos_label = 0))'''"
      ],
      "execution_count": null,
      "outputs": []
    },
    {
      "cell_type": "markdown",
      "metadata": {
        "id": "ABStRkBP1_5h"
      },
      "source": [
        "The above took almost 2 hours to run, so I am going to comment it out and just show the results here...\n",
        "\n",
        "{'criterion': 'gini', 'max_depth': 8, 'min_samples_leaf': 0.01} \\\\\n",
        "Accuracy: 0.8176666552186008 \\\\\n",
        "Balanced accuracy: 0.7264346891040241 \\\\\n",
        "Precision score for \"Yes\" 0.7361664129289144 \\\\\n",
        "Precision score for \"No\" 0.8374731404664665 \\\\\n",
        "Recall score for \"Yes\" 0.5239856627836705 \\\\\n",
        "Recall score for \"No\" 0.9288837154243775 \\\\\n",
        "\n",
        "It looks like this model performs close to as well for Precision but in Recall fails to meet the performance of the entropy model with default parameters. "
      ]
    },
    {
      "cell_type": "markdown",
      "metadata": {
        "id": "C6Sw8Kuarg8Y"
      },
      "source": [
        "The below is the model with the best params from the GridSearchCV that was commented out."
      ]
    },
    {
      "cell_type": "code",
      "metadata": {
        "colab": {
          "base_uri": "https://localhost:8080/"
        },
        "id": "sSx5D6ug2UP3",
        "outputId": "556b5ea7-f12f-470d-813d-22ec2982f24c"
      },
      "source": [
        "#Best model from above\n",
        "dtc_gini8 = tree.DecisionTreeClassifier(criterion='gini',max_depth=8,min_samples_leaf=0.01,random_state=1234)\n",
        "dtc_gini8.fit(X_hear_train_scaled_df,y_hear_train_df['protested_Y']) \n",
        "y_pred8 = dtc_gini8.predict(X_hear_test_scaled_df) \n",
        "confusion_matrix = pd.crosstab(y_hear_test_df['protested_Y'],y_pred8, rownames=['Actual'], colnames=['Predicted'])\n",
        "print (confusion_matrix)"
      ],
      "execution_count": null,
      "outputs": [
        {
          "output_type": "stream",
          "text": [
            "Predicted       0      1\n",
            "Actual                  \n",
            "0          235407  18023\n",
            "1           45685  50289\n"
          ],
          "name": "stdout"
        }
      ]
    },
    {
      "cell_type": "code",
      "metadata": {
        "colab": {
          "base_uri": "https://localhost:8080/",
          "height": 357
        },
        "id": "T4iySdcmoRmp",
        "outputId": "04e4d3f7-addf-4fc4-a0fc-1f4fce2d22e8"
      },
      "source": [
        "feat_imp = pd.DataFrame(zip(X_hear_train_scaled_df.columns,dtc_gini8.feature_importances_))\n",
        "feat_imp.sort_values(by=1,ascending=False).head(10)"
      ],
      "execution_count": null,
      "outputs": [
        {
          "output_type": "execute_result",
          "data": {
            "text/html": [
              "<div>\n",
              "<style scoped>\n",
              "    .dataframe tbody tr th:only-of-type {\n",
              "        vertical-align: middle;\n",
              "    }\n",
              "\n",
              "    .dataframe tbody tr th {\n",
              "        vertical-align: top;\n",
              "    }\n",
              "\n",
              "    .dataframe thead th {\n",
              "        text-align: right;\n",
              "    }\n",
              "</style>\n",
              "<table border=\"1\" class=\"dataframe\">\n",
              "  <thead>\n",
              "    <tr style=\"text-align: right;\">\n",
              "      <th></th>\n",
              "      <th>0</th>\n",
              "      <th>1</th>\n",
              "    </tr>\n",
              "  </thead>\n",
              "  <tbody>\n",
              "    <tr>\n",
              "      <th>5</th>\n",
              "      <td>x_features_val</td>\n",
              "      <td>0.363487</td>\n",
              "    </tr>\n",
              "    <tr>\n",
              "      <th>47</th>\n",
              "      <td>tot_appr_val_inc</td>\n",
              "      <td>0.332999</td>\n",
              "    </tr>\n",
              "    <tr>\n",
              "      <th>11</th>\n",
              "      <td>prior_x_features_val</td>\n",
              "      <td>0.103971</td>\n",
              "    </tr>\n",
              "    <tr>\n",
              "      <th>15</th>\n",
              "      <td>tot_rcn_val</td>\n",
              "      <td>0.045507</td>\n",
              "    </tr>\n",
              "    <tr>\n",
              "      <th>12</th>\n",
              "      <td>prior_tot_appr_val</td>\n",
              "      <td>0.041963</td>\n",
              "    </tr>\n",
              "    <tr>\n",
              "      <th>48</th>\n",
              "      <td>Cap_acct_Y</td>\n",
              "      <td>0.040023</td>\n",
              "    </tr>\n",
              "    <tr>\n",
              "      <th>40</th>\n",
              "      <td>bld_val_per_ft2</td>\n",
              "      <td>0.039964</td>\n",
              "    </tr>\n",
              "    <tr>\n",
              "      <th>44</th>\n",
              "      <td>bld_factor_Market_Area_1</td>\n",
              "      <td>0.007829</td>\n",
              "    </tr>\n",
              "    <tr>\n",
              "      <th>14</th>\n",
              "      <td>new_construction_val</td>\n",
              "      <td>0.007303</td>\n",
              "    </tr>\n",
              "    <tr>\n",
              "      <th>42</th>\n",
              "      <td>bld_factor_Neighborhood_Code</td>\n",
              "      <td>0.005766</td>\n",
              "    </tr>\n",
              "  </tbody>\n",
              "</table>\n",
              "</div>"
            ],
            "text/plain": [
              "                               0         1\n",
              "5                 x_features_val  0.363487\n",
              "47              tot_appr_val_inc  0.332999\n",
              "11          prior_x_features_val  0.103971\n",
              "15                   tot_rcn_val  0.045507\n",
              "12            prior_tot_appr_val  0.041963\n",
              "48                    Cap_acct_Y  0.040023\n",
              "40               bld_val_per_ft2  0.039964\n",
              "44      bld_factor_Market_Area_1  0.007829\n",
              "14          new_construction_val  0.007303\n",
              "42  bld_factor_Neighborhood_Code  0.005766"
            ]
          },
          "metadata": {
            "tags": []
          },
          "execution_count": 43
        }
      ]
    },
    {
      "cell_type": "markdown",
      "metadata": {
        "id": "SHjIZ4RMtju8"
      },
      "source": [
        "It looks like the value of the additional features (things like pools) seem to be a potential trigger for protests. Not supprisingly tot_appr_val_inc seems to also be one of the primary drivers in this model."
      ]
    },
    {
      "cell_type": "markdown",
      "metadata": {
        "id": "jLUYr3ISvjGN"
      },
      "source": [
        "## Default RandomForestClassifier"
      ]
    },
    {
      "cell_type": "markdown",
      "metadata": {
        "id": "Yy3HXLGlm2AY"
      },
      "source": [
        "Looking to improve this model I am going to next use a Random Forest Classifier to see if it will do better at predicting protests than the Default Decision Tree above."
      ]
    },
    {
      "cell_type": "code",
      "metadata": {
        "id": "E-k4VhCLpuvb"
      },
      "source": [
        "rft_simple = RandomForestClassifier(random_state=1234)\n",
        "rft_simple.fit(X_hear_train_scaled_df,y_hear_train_df['protested_Y']) \n",
        "y_pred_rft = rft_simple.predict(X_hear_test_scaled_df) \n"
      ],
      "execution_count": null,
      "outputs": []
    },
    {
      "cell_type": "code",
      "metadata": {
        "colab": {
          "base_uri": "https://localhost:8080/"
        },
        "id": "LInnZ-yFuUMw",
        "outputId": "8fcffc66-07fe-4009-c628-063ee4716ad7"
      },
      "source": [
        "print(\"Random Forest Model- Default params - no max depth\")\n",
        "print(\"Accuracy:\", metrics.accuracy_score(y_hear_test_df['protested_Y'],y_pred_rft))\n",
        "print(\"Balanced accuracy:\", metrics.balanced_accuracy_score(y_hear_test_df['protested_Y'],y_pred_rft))\n",
        "print('Precision score for \"Yes\"' , metrics.precision_score(y_hear_test_df['protested_Y'],y_pred_rft, pos_label = 1))\n",
        "print('Precision score for \"No\"' , metrics.precision_score(y_hear_test_df['protested_Y'],y_pred_rft, pos_label = 0))\n",
        "print('Recall score for \"Yes\"' , metrics.recall_score(y_hear_test_df['protested_Y'],y_pred_rft, pos_label = 1))\n",
        "print('Recall score for \"No\"' , metrics.recall_score(y_hear_test_df['protested_Y'],y_pred_rft, pos_label = 0))"
      ],
      "execution_count": null,
      "outputs": [
        {
          "output_type": "stream",
          "text": [
            "Random Forest Model- Default params - no max depth\n",
            "Accuracy: 0.9167983194239333\n",
            "Balanced accuracy: 0.8702956693259484\n",
            "Precision score for \"Yes\" 0.9163689772345378\n",
            "Precision score for \"No\" 0.9169265190680249\n",
            "Recall score for \"Yes\" 0.7671035905557755\n",
            "Recall score for \"No\" 0.9734877480961213\n"
          ],
          "name": "stdout"
        }
      ]
    },
    {
      "cell_type": "markdown",
      "metadata": {
        "id": "tr0VmUCxnaa4"
      },
      "source": [
        "This model does extremely well at Precision only predicting 6719 properties to protest that did not actually protest. For Recall, this model does slightly better than the Default Decisions Tree making this the currently leading model."
      ]
    },
    {
      "cell_type": "code",
      "metadata": {
        "colab": {
          "base_uri": "https://localhost:8080/"
        },
        "id": "YB8r0qMY087p",
        "outputId": "fe050dff-738c-4cae-82ac-a5845be93a3d"
      },
      "source": [
        "confusion_matrix = pd.crosstab(y_hear_test_df['protested_Y'],y_pred_rft, rownames=['Actual'], colnames=['Predicted'])\n",
        "print (confusion_matrix)"
      ],
      "execution_count": null,
      "outputs": [
        {
          "output_type": "stream",
          "text": [
            "Predicted       0      1\n",
            "Actual                  \n",
            "0          246711   6719\n",
            "1           22352  73622\n"
          ],
          "name": "stdout"
        }
      ]
    },
    {
      "cell_type": "code",
      "metadata": {
        "colab": {
          "base_uri": "https://localhost:8080/"
        },
        "id": "QsgqjpimVemu",
        "outputId": "7cce45f7-32c7-4ccb-b252-32c87e12da52"
      },
      "source": [
        "feat_imp = pd.Series(rft_simple.feature_importances_, index = X_hear_train_scaled_df.columns).sort_values(ascending = False)\n",
        "feat_imp[:10]"
      ],
      "execution_count": null,
      "outputs": [
        {
          "output_type": "execute_result",
          "data": {
            "text/plain": [
              "x_features_val             0.112850\n",
              "tot_appr_val_inc           0.094914\n",
              "Initial_Market_Value       0.072984\n",
              "Initial_Appraised_Value    0.055014\n",
              "prior_x_features_val       0.052525\n",
              "assessed_val               0.050303\n",
              "tot_mkt_val                0.048859\n",
              "tot_appr_val               0.044126\n",
              "bld_val_per_ft2            0.035805\n",
              "tot_rcn_val                0.033834\n",
              "dtype: float64"
            ]
          },
          "metadata": {
            "tags": []
          },
          "execution_count": 48
        }
      ]
    },
    {
      "cell_type": "markdown",
      "metadata": {
        "id": "1c6iOllRoLRq"
      },
      "source": [
        "It appears that x_features_val and tot_appr_val_inc remain highly influential in this model, but less impactful than in the Decision Trees."
      ]
    },
    {
      "cell_type": "markdown",
      "metadata": {
        "id": "3dCi7z81ovBx"
      },
      "source": [
        "I am curious about the population that I am predicting to have not protested but did. The next few graphs are looking at the difference between the different groups in the confusion matrix."
      ]
    },
    {
      "cell_type": "code",
      "metadata": {
        "colab": {
          "base_uri": "https://localhost:8080/",
          "height": 746
        },
        "id": "0w4dkg7xItaB",
        "outputId": "6500c8c7-68b4-477a-f142-f0b6f7d5f2d6"
      },
      "source": [
        "plt.figure(figsize=(15,12))\n",
        "sns.displot(x=y_hear_test_df['appeal_red_pct'],col=y_pred_rft,row=y_hear_test_df['protested_Y'],binwidth=1,hue=y_pred_rft)\n",
        "plt.ylim(0,20000)\n",
        "plt.xlim(-1,40)\n",
        "plt.show()"
      ],
      "execution_count": null,
      "outputs": [
        {
          "output_type": "display_data",
          "data": {
            "text/plain": [
              "<Figure size 1080x864 with 0 Axes>"
            ]
          },
          "metadata": {
            "tags": []
          }
        },
        {
          "output_type": "display_data",
          "data": {
            "image/png": "[encoded data removed]",
            "text/plain": [
              "<Figure size 762.375x720 with 4 Axes>"
            ]
          },
          "metadata": {
            "tags": [],
            "needs_background": "light"
          }
        }
      ]
    },
    {
      "cell_type": "code",
      "metadata": {
        "colab": {
          "base_uri": "https://localhost:8080/",
          "height": 746
        },
        "id": "G3YjdL5oQsz-",
        "outputId": "9af9e04d-8048-40e1-b339-53470ce70055"
      },
      "source": [
        "plt.figure(figsize=(15,12))\n",
        "sns.displot(x=y_hear_test_df['appeal_reduction'],col=y_pred_rft,row=y_hear_test_df['protested_Y'],binwidth=5000,hue=y_pred_rft)\n",
        "plt.ylim(0,15000)\n",
        "plt.xlim(-1,100000)\n",
        "plt.show()"
      ],
      "execution_count": null,
      "outputs": [
        {
          "output_type": "display_data",
          "data": {
            "text/plain": [
              "<Figure size 1080x864 with 0 Axes>"
            ]
          },
          "metadata": {
            "tags": []
          }
        },
        {
          "output_type": "display_data",
          "data": {
            "image/png": "[encoded data removed]",
            "text/plain": [
              "<Figure size 762.375x720 with 4 Axes>"
            ]
          },
          "metadata": {
            "tags": [],
            "needs_background": "light"
          }
        }
      ]
    },
    {
      "cell_type": "markdown",
      "metadata": {
        "id": "FfPz_PA0RmE7"
      },
      "source": [
        "The two plots above show that the false negatives are the less succesful protests (they maybe should not have protested)."
      ]
    },
    {
      "cell_type": "markdown",
      "metadata": {
        "id": "jbgCuhtZ1TMq"
      },
      "source": [
        "It looks as though this default random forest model is getting 3/4 of the protested properties corretly predicted. This really is doing pretty well based on the random nature of humans. There will always be some people who protest who have no reason to and some who should protest who won't bother. If the differences in results for homes that this model sugests would protest holds for the properties that did not protest but were predicted to protest, these ~7000 could potentially see a reduction in their property taxes."
      ]
    },
    {
      "cell_type": "markdown",
      "metadata": {
        "id": "fKum6CR5vreD"
      },
      "source": [
        "## GridSearch RandomForest, variable n_estimaters, max_depth,  min_sameles_leaf"
      ]
    },
    {
      "cell_type": "markdown",
      "metadata": {
        "id": "t43OtfnPqiQf"
      },
      "source": [
        "Like with the Decision Tree I next tried to improve on the RandomForest above by running a gridsearch."
      ]
    },
    {
      "cell_type": "code",
      "metadata": {
        "id": "B42n2Bud2DGr"
      },
      "source": [
        "'''para = {'n_estimators':[50,100],'min_samples_split':[2,4,6], 'max_samples':[50000,100000]}\n",
        "rft = RandomForestClassifier(random_state=1234)\n",
        "rft_cv = GridSearchCV(rft,para,cv=5,n_jobs = -1)\n",
        "rft_cv.fit(X_hear_train_scaled_df,y_hear_train_df['protested_Y']) \n",
        "y_pred_cv = rft_cv.predict(X_hear_test_scaled_df) '''"
      ],
      "execution_count": null,
      "outputs": []
    },
    {
      "cell_type": "code",
      "metadata": {
        "id": "8W8YpkEHAo8M"
      },
      "source": [
        "'''print(\"Random Forest Model- Best params\")\n",
        "print(rft_cv.best_params_)\n",
        "print(\"Accuracy:\", metrics.accuracy_score(y_hear_test_df['protested_Y'],y_pred_cv))\n",
        "print(\"Balanced accuracy:\", metrics.balanced_accuracy_score(y_hear_test_df['protested_Y'],y_pred_cv))\n",
        "print('Precision score for \"Yes\"' , metrics.precision_score(y_hear_test_df['protested_Y'],y_pred_cv, pos_label = 1))\n",
        "print('Precision score for \"No\"' , metrics.precision_score(y_hear_test_df['protested_Y'],y_pred_cv, pos_label = 0))\n",
        "print('Recall score for \"Yes\"' , metrics.recall_score(y_hear_test_df['protested_Y'],y_pred_cv, pos_label = 1))\n",
        "print('Recall score for \"No\"' , metrics.recall_score(y_hear_test_df['protested_Y'],y_pred_cv, pos_label = 0))'''"
      ],
      "execution_count": null,
      "outputs": []
    },
    {
      "cell_type": "markdown",
      "metadata": {
        "id": "VZ_5riJXAiuf"
      },
      "source": [
        "The above took an hour to run and is actually less of a range in hyperparameters than I would have liked to have done. Like I did above I have commented it out and just show the results here...\n",
        "\n",
        "Random Forest Model- Best params\n",
        "{'max_samples': 100000, 'min_samples_split': 2, 'n_estimators': 100} \\\\\n",
        "Accuracy: 0.9027028883470137 \\\\\n",
        "Balanced accuracy: 0.8470749987521323 \\\\\n",
        "Precision score for \"Yes\" 0.902862640076961 \\\\\n",
        "Precision score for \"No\" 0.9026577902393552 \\\\\n",
        "Recall score for \"Yes\" 0.723633484068602 \\\\\n",
        "Recall score for \"No\" 0.9705165134356627"
      ]
    },
    {
      "cell_type": "markdown",
      "metadata": {
        "id": "i_11UWeFrP8_"
      },
      "source": [
        "The below is the model with the best params from the GridSearchCV that was commented out."
      ]
    },
    {
      "cell_type": "code",
      "metadata": {
        "id": "qB-nSEmPQ-Tz"
      },
      "source": [
        "rft_updated = RandomForestClassifier(random_state=1234,n_estimators=100,min_samples_split=2,max_samples=100000,n_jobs=-1)\n",
        "rft_updated.fit(X_hear_train_scaled_df,y_hear_train_df['protested_Y']) \n",
        "y_pred_rftup = rft_updated.predict(X_hear_test_scaled_df) "
      ],
      "execution_count": null,
      "outputs": []
    },
    {
      "cell_type": "code",
      "metadata": {
        "colab": {
          "base_uri": "https://localhost:8080/"
        },
        "id": "Y9HIhvpJsUBl",
        "outputId": "36ef7d47-474b-4952-ec99-f20e6a7bf610"
      },
      "source": [
        "print(\"Accuracy:\", metrics.accuracy_score(y_hear_test_df['protested_Y'],y_pred_rftup))\n",
        "print(\"Balanced accuracy:\", metrics.balanced_accuracy_score(y_hear_test_df['protested_Y'],y_pred_rftup))\n",
        "print('Precision score for \"Yes\"' , metrics.precision_score(y_hear_test_df['protested_Y'],y_pred_rftup, pos_label = 1))\n",
        "print('Precision score for \"No\"' , metrics.precision_score(y_hear_test_df['protested_Y'],y_pred_rftup, pos_label = 0))\n",
        "print('Recall score for \"Yes\"' , metrics.recall_score(y_hear_test_df['protested_Y'],y_pred_rftup, pos_label = 1))\n",
        "print('Recall score for \"No\"' , metrics.recall_score(y_hear_test_df['protested_Y'],y_pred_rftup, pos_label = 0))"
      ],
      "execution_count": null,
      "outputs": [
        {
          "output_type": "stream",
          "text": [
            "Accuracy: 0.9027028883470137\n",
            "Balanced accuracy: 0.8470749987521323\n",
            "Precision score for \"Yes\" 0.902862640076961\n",
            "Precision score for \"No\" 0.9026577902393552\n",
            "Recall score for \"Yes\" 0.723633484068602\n",
            "Recall score for \"No\" 0.9705165134356627\n"
          ],
          "name": "stdout"
        }
      ]
    },
    {
      "cell_type": "code",
      "metadata": {
        "colab": {
          "base_uri": "https://localhost:8080/"
        },
        "id": "T0gmn_xuqlIr",
        "outputId": "cafd79de-6c2e-44a3-a846-9ff334c10990"
      },
      "source": [
        "confusion_matrix = pd.crosstab(y_hear_test_df['protested_Y'],y_pred_rftup, rownames=['Actual'], colnames=['Predicted'])\n",
        "print (confusion_matrix)"
      ],
      "execution_count": null,
      "outputs": [
        {
          "output_type": "stream",
          "text": [
            "Predicted       0      1\n",
            "Actual                  \n",
            "0          245958   7472\n",
            "1           26524  69450\n"
          ],
          "name": "stdout"
        }
      ]
    },
    {
      "cell_type": "markdown",
      "metadata": {
        "id": "2oCz8ypRUlvl"
      },
      "source": [
        "This model is only slightly worse than the default RandomForestClassifier's performance on Precision. Its Recall is also just slightly worse. The Default Random Forest Classifier is my current best model for Protest Prediction."
      ]
    },
    {
      "cell_type": "markdown",
      "metadata": {
        "id": "Sl5CjVfJtSvT"
      },
      "source": [
        "#Thoughts"
      ]
    },
    {
      "cell_type": "markdown",
      "metadata": {
        "id": "_vrKaezgtftB"
      },
      "source": [
        "The Total Appriasal value prediction model does a decent job of prediction, but I feel like an RMSE of >50,000 indicates that this model may not yet be useful for creating an argument within an appeal. the failing of this model is apparent in the fairly significant spread from the 1:1 line in the scatter plot of actual vs predicted on the test data."
      ]
    },
    {
      "cell_type": "markdown",
      "metadata": {
        "id": "xMfj2P7Muy89"
      },
      "source": [
        "With Protest prediction the model appears to have been able to do an excellent job of being correct when predicting a protest. There may be a potential population that would benifit from protesting identified through this model. Recall for this prediction model also seems to be identifying a second population in the group that are not predicted to protest but actually did. This group is of interest because it appears this group is less successful in the results of their protests. If there were a way to incentivise this population not to protest there could be up to a 25% reduction in the number of hearings associated with single family homes. "
      ]
    },
    {
      "cell_type": "code",
      "metadata": {
        "id": "KNIymtlQwyZN"
      },
      "source": [
        ""
      ],
      "execution_count": null,
      "outputs": []
    }
  ]
}